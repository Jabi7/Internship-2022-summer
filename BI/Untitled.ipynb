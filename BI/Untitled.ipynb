{
 "cells": [
  {
   "cell_type": "code",
   "execution_count": null,
   "id": "da82df1f-39e4-4ab3-aeee-2a6a6e3a2211",
   "metadata": {},
   "outputs": [],
   "source": [
    "1+0"
   ]
  },
  {
   "cell_type": "code",
   "execution_count": null,
   "id": "8a529a7e-895c-495b-995b-9e893d133b0f",
   "metadata": {},
   "outputs": [],
   "source": []
  },
  {
   "cell_type": "code",
   "execution_count": null,
   "id": "40ac30ba-8488-4515-8beb-574d006a2dca",
   "metadata": {},
   "outputs": [],
   "source": []
  },
  {
   "cell_type": "markdown",
   "id": "78a246df-5c7a-4a32-aa84-af29076802ac",
   "metadata": {},
   "source": [
    "![](flow diagram/diagram-20220612g.png)\n",
    "\n",
    "<img src=\"d1g.png\">"
   ]
  },
  {
   "cell_type": "code",
   "execution_count": null,
   "id": "9088e562-d5d3-4ea9-a5ef-03ad47aba5b6",
   "metadata": {},
   "outputs": [],
   "source": []
  }
 ],
 "metadata": {
  "kernelspec": {
   "display_name": "Python 3",
   "language": "python",
   "name": "python3"
  },
  "language_info": {
   "codemirror_mode": {
    "name": "ipython",
    "version": 3
   },
   "file_extension": ".py",
   "mimetype": "text/x-python",
   "name": "python",
   "nbconvert_exporter": "python",
   "pygments_lexer": "ipython3",
   "version": "3.9.5"
  }
 },
 "nbformat": 4,
 "nbformat_minor": 5
}
