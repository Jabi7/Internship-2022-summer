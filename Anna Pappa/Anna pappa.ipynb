{
 "cells": [
  {
   "cell_type": "code",
   "execution_count": 161,
   "id": "098dc66a-1ce9-4c52-bf76-07ea1c3d6f62",
   "metadata": {},
   "outputs": [],
   "source": [
    "import numpy as np\n",
    "import itertools as it\n",
    "from fractions import Fraction\n",
    "import matplotlib.pyplot as plt"
   ]
  },
  {
   "cell_type": "code",
   "execution_count": 224,
   "id": "8e0fea85-4eec-4f85-b548-e4f5ee827251",
   "metadata": {},
   "outputs": [],
   "source": [
    "S = list(it.product([0,1],[0,1]))"
   ]
  },
  {
   "cell_type": "markdown",
   "id": "2aacf3d7-541f-4cda-93e9-1e195cfd4967",
   "metadata": {},
   "source": [
    "## Utility function of Anna pappa's battle of sex CHSH hybrid"
   ]
  },
  {
   "cell_type": "code",
   "execution_count": 70,
   "id": "0bc08da9-7062-4f1e-9554-daff43faf082",
   "metadata": {},
   "outputs": [],
   "source": [
    "# payoff function\n",
    "def u(x,y):\n",
    "    x1, x2, y1, y2 = x[0], x[1], y[0], y[1]\n",
    "    t = x1&x2\n",
    "    if t == y1^y2:\n",
    "        return{0:(1, 1/2), 1:(1/2,1)}[y1] if t == 0 else (3/4, 3/4)\n",
    "    else:\n",
    "        return (0,0)"
   ]
  },
  {
   "cell_type": "code",
   "execution_count": 227,
   "id": "928eadbf-7181-4482-aa2a-1b5feed9cbd5",
   "metadata": {},
   "outputs": [],
   "source": [
    "# payoff printing fuction\n",
    "def prpff(u):\n",
    "    S = list(it.product([0,1],[0,1]))\n",
    "    print('y      :  payoff')\n",
    "    for x in S:\n",
    "        if x[0]&x[1] == 0:\n",
    "            print('\\n x1^x2 = 0')\n",
    "            for y in S:\n",
    "                    print(y,':', u(x,y))\n",
    "        else: \n",
    "            print('\\n x1^x2 = 1')\n",
    "            for y in S:\n",
    "                    print(y,':', u(x,y))"
   ]
  },
  {
   "cell_type": "code",
   "execution_count": 228,
   "id": "0e6beee3-da8d-4f65-9b29-7723c0fe79bb",
   "metadata": {},
   "outputs": [
    {
     "name": "stdout",
     "output_type": "stream",
     "text": [
      "y      :  payoff\n",
      "\n",
      " x1^x2 = 0\n",
      "(0, 0) : (1, 0.5)\n",
      "(0, 1) : (0, 0)\n",
      "(1, 0) : (0, 0)\n",
      "(1, 1) : (0.5, 1)\n",
      "\n",
      " x1^x2 = 0\n",
      "(0, 0) : (1, 0.5)\n",
      "(0, 1) : (0, 0)\n",
      "(1, 0) : (0, 0)\n",
      "(1, 1) : (0.5, 1)\n",
      "\n",
      " x1^x2 = 0\n",
      "(0, 0) : (1, 0.5)\n",
      "(0, 1) : (0, 0)\n",
      "(1, 0) : (0, 0)\n",
      "(1, 1) : (0.5, 1)\n",
      "\n",
      " x1^x2 = 1\n",
      "(0, 0) : (0, 0)\n",
      "(0, 1) : (0.75, 0.75)\n",
      "(1, 0) : (0.75, 0.75)\n",
      "(1, 1) : (0, 0)\n"
     ]
    }
   ],
   "source": [
    "prpff(u)"
   ]
  },
  {
   "cell_type": "markdown",
   "id": "7229fb58-4728-496d-9c5f-f4063a598531",
   "metadata": {},
   "source": [
    "## Classical"
   ]
  },
  {
   "cell_type": "code",
   "execution_count": 88,
   "id": "6260fe51-e06e-4008-b606-313793b8e506",
   "metadata": {},
   "outputs": [],
   "source": [
    "px = [1/4]*4\n",
    "pxy = [1, 1, ]\n",
    "def pyx(x,y):\n",
    "    x1, x2, y1, y2 = x[0], x[1], y[0], y[1]\n",
    "    if x1&x2 == 0:\n",
    "        return 1 if y == (0,0) else 0\n",
    "    else:\n",
    "        return 1 if y == (1,0) else 0\n",
    "\n",
    "def F(X, px, Y, pyx, u):\n",
    "    f1, f2 = 0, 0\n",
    "    for x in X:\n",
    "        i = x[1]*1 + x[0]*2\n",
    "        for y in Y:\n",
    "            f1 += px[i]*pyx(x,y)*u(x, y)[0]\n",
    "            f2 += px[i]*pyx(x,y)*u(x, y)[1]\n",
    "    return f1,f2\n",
    "        "
   ]
  },
  {
   "cell_type": "code",
   "execution_count": 89,
   "id": "c3fd916f-8904-496c-966d-62eda9e56bd5",
   "metadata": {},
   "outputs": [
    {
     "data": {
      "text/plain": [
       "(0.9375, 0.5625)"
      ]
     },
     "execution_count": 89,
     "metadata": {},
     "output_type": "execute_result"
    }
   ],
   "source": [
    "F(S, px, S, pyx, u)"
   ]
  },
  {
   "cell_type": "markdown",
   "id": "4253f5cc-dbfd-47e2-8f7e-cdbd875cf345",
   "metadata": {},
   "source": [
    "### questions\n",
    "\n",
    "1. Any theorems connecting the equilibriums of the whole game and of the sub games produced by different type profiles $x \\in X_A \\times X_B$?"
   ]
  },
  {
   "cell_type": "markdown",
   "id": "ea095078-283f-4bf5-9fa4-fabfa976322a",
   "metadata": {},
   "source": [
    "## Quantum"
   ]
  },
  {
   "cell_type": "code",
   "execution_count": 271,
   "id": "80f28923-4782-4237-bfa4-1f76de3600c5",
   "metadata": {},
   "outputs": [],
   "source": [
    "k0, k1 = np.array([1,0]), np.array([0,1])\n",
    "phi = lambda y, t: np.cos(t)*k0 + np.sin(t)*k1 if y ==0 else -np.sin(t)*k0 + np.cos(t)*k1\n",
    "\n",
    "P = lambda y, t: np.outer(phi(y, t), phi(y, t))\n",
    "Phip = 1/2**0.5*(np.kron(k0,k0) + np.kron(k1,k1))\n",
    "ex = lambda M, psi = Phip: np.dot(np.conj(psi), np.dot(M,psi))"
   ]
  },
  {
   "cell_type": "code",
   "execution_count": 154,
   "id": "0029d164-c3a2-4c97-9e54-90254900210d",
   "metadata": {},
   "outputs": [],
   "source": [
    "def Fq(X, px, Y, pyx, u, th):\n",
    "    f1, f2 = 0, 0\n",
    "    for x in X:\n",
    "        i = x[1]*1 + x[0]*2\n",
    "        for y in Y:\n",
    "            f1 += px[i]*pyx(x,y, th)*u(x, y)[0]\n",
    "            f2 += px[i]*pyx(x,y, th)*u(x, y)[1]\n",
    "    return f1,f2"
   ]
  },
  {
   "cell_type": "code",
   "execution_count": 155,
   "id": "52f10ea6-2697-442d-b74f-fd6113bd76ad",
   "metadata": {},
   "outputs": [],
   "source": [
    "theta = [(0, np.pi/4), (np.pi/8, -np.pi/8)]\n",
    "def qpyx(x, y, t = theta):\n",
    "    x1, x2, y1, y2 = x[0], x[1], y[0], y[1]\n",
    "    \n",
    "    psi = 1/2**0.5*(np.kron(k0,k0) + np.kron(k1,k1))\n",
    "    \n",
    "    return ex(np.kron(P(y1, t[0][x1]), P(y2, t[1][x2])), psi)"
   ]
  },
  {
   "cell_type": "code",
   "execution_count": 156,
   "id": "ed969877-05a2-486c-bec2-e45db230a7d7",
   "metadata": {},
   "outputs": [
    {
     "name": "stdout",
     "output_type": "stream",
     "text": [
      "Payoff of (alice, bob) = (0.6401650429449552, 0.6401650429449551)\n"
     ]
    }
   ],
   "source": [
    "print('Payoff of (alice, bob) =',Fq(S, px, S, qpyx, u, theta))"
   ]
  },
  {
   "cell_type": "markdown",
   "id": "cf54883a-2916-4f48-937f-f0b5fc75b990",
   "metadata": {},
   "source": [
    "### So till now ok!"
   ]
  },
  {
   "cell_type": "code",
   "execution_count": null,
   "id": "0de5172d-99a7-4347-ac9e-731063e5b99d",
   "metadata": {},
   "outputs": [],
   "source": []
  },
  {
   "cell_type": "code",
   "execution_count": 211,
   "id": "94ae1336-9c5a-4432-baaf-cb74d2911c47",
   "metadata": {},
   "outputs": [
    {
     "data": {
      "text/plain": [
       "(0.1875, 0.1875)"
      ]
     },
     "execution_count": 211,
     "metadata": {},
     "output_type": "execute_result"
    }
   ],
   "source": [
    "Fq(S, px, S, qpyx, u, [(0, 0), (-np.pi/2, -np.pi/8)])"
   ]
  },
  {
   "cell_type": "markdown",
   "id": "cbce9fba-110f-4df9-b2ca-daa0deb2779f",
   "metadata": {},
   "source": [
    "### Will check on SDP later. However,"
   ]
  },
  {
   "cell_type": "markdown",
   "id": "b350072f-2656-45bb-8cd1-3fb2c4e6198f",
   "metadata": {},
   "source": [
    "#### keeping alices strategy constant and varing bob's"
   ]
  },
  {
   "cell_type": "code",
   "execution_count": 206,
   "id": "f0cfe1f4-af01-4701-9b6e-b762c905a891",
   "metadata": {},
   "outputs": [],
   "source": [
    "t = np.linspace(0, np.pi, 20)\n",
    "\n",
    "pffs  = []\n",
    "\n",
    "for l, m in it.product(t,t):\n",
    "    pffs.append(Fq(S, px, S, qpyx, u, [(0, np.pi/4), (np.pi/8 + l, -np.pi/8 + m)]))\n",
    "    pffs.append(Fq(S, px, S, qpyx, u, [(0, np.pi/4), (np.pi/8 - l, -np.pi/8 - m)]))"
   ]
  },
  {
   "cell_type": "code",
   "execution_count": 207,
   "id": "ff09134b-23b7-494f-b7eb-c74ee68ccd7f",
   "metadata": {},
   "outputs": [
    {
     "data": {
      "text/plain": [
       "Text(0, 0.5, 'bob payoff')"
      ]
     },
     "execution_count": 207,
     "metadata": {},
     "output_type": "execute_result"
    },
    {
     "data": {
      "image/png": "[encoded data removed]",
      "text/plain": [
       "<Figure size 432x288 with 1 Axes>"
      ]
     },
     "metadata": {
      "needs_background": "light"
     },
     "output_type": "display_data"
    }
   ],
   "source": [
    "a, b = zip(*pffs)\n",
    "plt.scatter(a,b)\n",
    "plt.xlabel('alice payoff')\n",
    "plt.ylabel('bob payoff')"
   ]
  },
  {
   "cell_type": "markdown",
   "id": "4bb6b53d-4f96-4164-a046-0f1606d14445",
   "metadata": {},
   "source": [
    "#### varying both"
   ]
  },
  {
   "cell_type": "code",
   "execution_count": 208,
   "id": "c8ec9082-4e61-44eb-a479-0627a049253a",
   "metadata": {},
   "outputs": [],
   "source": [
    "t = np.linspace(0, np.pi/2, 5)\n",
    "\n",
    "pffs  = []\n",
    "\n",
    "for j, k, l, m in it.product(t,t,t,t):\n",
    "    pffs.append(Fq(S, px, S, qpyx, u, [(0 + j, np.pi/4 + k), (np.pi/8 + l, -np.pi/8 + m)]))\n",
    "    pffs.append(Fq(S, px, S, qpyx, u, [(0 - j, np.pi/4 - k), (np.pi/8 - l, -np.pi/8 - m)]))"
   ]
  },
  {
   "cell_type": "code",
   "execution_count": 209,
   "id": "2c73eb33-f365-42c4-8bff-c42965edacc7",
   "metadata": {},
   "outputs": [
    {
     "data": {
      "text/plain": [
       "Text(0, 0.5, 'bob payoff')"
      ]
     },
     "execution_count": 209,
     "metadata": {},
     "output_type": "execute_result"
    },
    {
     "data": {
      "image/png": "[encoded data removed]",
      "text/plain": [
       "<Figure size 432x288 with 1 Axes>"
      ]
     },
     "metadata": {
      "needs_background": "light"
     },
     "output_type": "display_data"
    }
   ],
   "source": [
    "a, b = zip(*pffs)\n",
    "plt.scatter(a,b)\n",
    "plt.xlabel('alice payoff')\n",
    "plt.ylabel('bob payoff')"
   ]
  },
  {
   "cell_type": "markdown",
   "id": "6c19290b-5798-446b-b13a-d4d158226bf2",
   "metadata": {},
   "source": [
    "What the heck?"
   ]
  },
  {
   "cell_type": "markdown",
   "id": "af44449b-eb67-4e93-84a5-e1b47fb24dd8",
   "metadata": {},
   "source": [
    "### so fails to reproduce their plot\n",
    "reasons:\n",
    "1. May be there is a bug i cant find\n",
    "2. May be I didnt get the idea of what they did to plot it"
   ]
  },
  {
   "cell_type": "markdown",
   "id": "5409d79e-14ae-4f80-b963-0abafd840a13",
   "metadata": {},
   "source": [
    "##### So if only its right, this plot says both players get the same payoff when they both vary their strategies differently. So whats the point of this paper emphasising on conflicting interest and players ending up getting fair payoffs in the quantum case when the strategies are varied. I need to figure it out. "
   ]
  },
  {
   "cell_type": "markdown",
   "id": "7c01dde5-e1f9-4de8-bfdc-b1ec84120e13",
   "metadata": {},
   "source": [
    "## So lets try out different utility funtions"
   ]
  },
  {
   "cell_type": "code",
   "execution_count": 219,
   "id": "4da4bb2c-198d-4139-8ebf-98d197331be5",
   "metadata": {},
   "outputs": [],
   "source": [
    "def ut2(x,y):\n",
    "    x1, x2, y1, y2 = x[0], x[1], y[0], y[1]\n",
    "    t = x1&x2\n",
    "    if t == y1^y2:\n",
    "        return{0:(1, 1/2), 1:(1/2,1)}[y1] if t == 0 else {0:(3/4, 1/2), 1:(1/2,1)}[y1]\n",
    "    else:\n",
    "        return (0,0)"
   ]
  },
  {
   "cell_type": "code",
   "execution_count": 229,
   "id": "f770b8cd-fb01-4b01-a79c-e5e48f3e44b0",
   "metadata": {},
   "outputs": [
    {
     "name": "stdout",
     "output_type": "stream",
     "text": [
      "y      :  payoff\n",
      "\n",
      " x1^x2 = 0\n",
      "(0, 0) : (1, 0.5)\n",
      "(0, 1) : (0, 0)\n",
      "(1, 0) : (0, 0)\n",
      "(1, 1) : (0.5, 1)\n",
      "\n",
      " x1^x2 = 0\n",
      "(0, 0) : (1, 0.5)\n",
      "(0, 1) : (0, 0)\n",
      "(1, 0) : (0, 0)\n",
      "(1, 1) : (0.5, 1)\n",
      "\n",
      " x1^x2 = 0\n",
      "(0, 0) : (1, 0.5)\n",
      "(0, 1) : (0, 0)\n",
      "(1, 0) : (0, 0)\n",
      "(1, 1) : (0.5, 1)\n",
      "\n",
      " x1^x2 = 1\n",
      "(0, 0) : (0, 0)\n",
      "(0, 1) : (0.75, 0.5)\n",
      "(1, 0) : (0.5, 1)\n",
      "(1, 1) : (0, 0)\n"
     ]
    }
   ],
   "source": [
    "prpff(ut2)"
   ]
  },
  {
   "cell_type": "code",
   "execution_count": 222,
   "id": "8a0fa997-958a-4549-aada-b76a33dc4b19",
   "metadata": {},
   "outputs": [],
   "source": [
    "def pplot(u):\n",
    "    t = np.linspace(0, np.pi/2, 5)\n",
    "\n",
    "    pffs  = []\n",
    "\n",
    "    for j, k, l, m in it.product(t,t,t,t):\n",
    "        pffs.append(Fq(S, px, S, qpyx, u, [(0 + j, np.pi/4 + k), (np.pi/8 + l, -np.pi/8 + m)]))\n",
    "        pffs.append(Fq(S, px, S, qpyx, u, [(0 - j, np.pi/4 - k), (np.pi/8 - l, -np.pi/8 - m)]))\n",
    "        \n",
    "    a, b = zip(*pffs)\n",
    "    plt.scatter(a,b)\n",
    "    plt.xlabel('alice payoff')\n",
    "    plt.ylabel('bob payoff')"
   ]
  },
  {
   "cell_type": "code",
   "execution_count": 223,
   "id": "5137c33b-ea9d-4679-84ed-36c9e9f86e53",
   "metadata": {},
   "outputs": [
    {
     "data": {
      "image/png": "[encoded data removed]",
      "text/plain": [
       "<Figure size 432x288 with 1 Axes>"
      ]
     },
     "metadata": {
      "needs_background": "light"
     },
     "output_type": "display_data"
    }
   ],
   "source": [
    "pplot(ut2)"
   ]
  },
  {
   "cell_type": "markdown",
   "id": "b8d64638-cc7f-4eff-ac48-9b1fca19f935",
   "metadata": {},
   "source": [
    "emmm..."
   ]
  },
  {
   "cell_type": "code",
   "execution_count": 231,
   "id": "f1834582-a18c-48ed-bcac-031c0109252e",
   "metadata": {},
   "outputs": [],
   "source": [
    "def ut3(x,y):\n",
    "    x1, x2, y1, y2 = x[0], x[1], y[0], y[1]\n",
    "    t = x1^x2\n",
    "    if t == y1&y2:\n",
    "        return{0:(1, 1/2), 1:(1/2,1)}[y1] if t == 0 else {0:(3/4, 1/2), 1:(1/2,1)}[y1]\n",
    "    else:\n",
    "        return (0.5,0)"
   ]
  },
  {
   "cell_type": "code",
   "execution_count": 232,
   "id": "9e0cf3da-c68b-4f4f-b92c-6aba2cb2109a",
   "metadata": {},
   "outputs": [
    {
     "name": "stdout",
     "output_type": "stream",
     "text": [
      "y      :  payoff\n",
      "\n",
      " x1^x2 = 0\n",
      "(0, 0) : (1, 0.5)\n",
      "(0, 1) : (1, 0.5)\n",
      "(1, 0) : (0.5, 1)\n",
      "(1, 1) : (0.5, 0)\n",
      "\n",
      " x1^x2 = 0\n",
      "(0, 0) : (0.5, 0)\n",
      "(0, 1) : (0.5, 0)\n",
      "(1, 0) : (0.5, 0)\n",
      "(1, 1) : (0.5, 1)\n",
      "\n",
      " x1^x2 = 0\n",
      "(0, 0) : (0.5, 0)\n",
      "(0, 1) : (0.5, 0)\n",
      "(1, 0) : (0.5, 0)\n",
      "(1, 1) : (0.5, 1)\n",
      "\n",
      " x1^x2 = 1\n",
      "(0, 0) : (1, 0.5)\n",
      "(0, 1) : (1, 0.5)\n",
      "(1, 0) : (0.5, 1)\n",
      "(1, 1) : (0.5, 0)\n"
     ]
    },
    {
     "data": {
      "image/png": "[encoded data removed]",
      "text/plain": [
       "<Figure size 432x288 with 1 Axes>"
      ]
     },
     "metadata": {
      "needs_background": "light"
     },
     "output_type": "display_data"
    }
   ],
   "source": [
    "prpff(ut3)\n",
    "pplot(ut3)"
   ]
  },
  {
   "cell_type": "markdown",
   "id": "ce4e1fc5-67b6-4ec6-8094-a82caf4c9428",
   "metadata": {},
   "source": [
    "hehe"
   ]
  },
  {
   "cell_type": "code",
   "execution_count": 251,
   "id": "358946df-d8d2-41a2-86f3-32002e1ba98c",
   "metadata": {},
   "outputs": [],
   "source": [
    "def ut4(x,y):\n",
    "    x1, x2, y1, y2 = x[0], x[1], y[0], y[1]\n",
    "    t = x1|x2\n",
    "    if t == y1^y2:\n",
    "        return{0:(1, 1/2), 1:(1/2,1)}[y1] if t == 1 else {0:(0, 1/2), 1:(1/2,0)}[y1]\n",
    "    else:\n",
    "        return (1/2,3/4)"
   ]
  },
  {
   "cell_type": "code",
   "execution_count": 252,
   "id": "2dcb4276-cb24-4d2d-8a16-af5c9c1332ee",
   "metadata": {},
   "outputs": [
    {
     "name": "stdout",
     "output_type": "stream",
     "text": [
      "y      :  payoff\n",
      "\n",
      " x1^x2 = 0\n",
      "(0, 0) : (0, 0.5)\n",
      "(0, 1) : (0.5, 0.75)\n",
      "(1, 0) : (0.5, 0.75)\n",
      "(1, 1) : (0.5, 0)\n",
      "\n",
      " x1^x2 = 0\n",
      "(0, 0) : (0.5, 0.75)\n",
      "(0, 1) : (1, 0.5)\n",
      "(1, 0) : (0.5, 1)\n",
      "(1, 1) : (0.5, 0.75)\n",
      "\n",
      " x1^x2 = 0\n",
      "(0, 0) : (0.5, 0.75)\n",
      "(0, 1) : (1, 0.5)\n",
      "(1, 0) : (0.5, 1)\n",
      "(1, 1) : (0.5, 0.75)\n",
      "\n",
      " x1^x2 = 1\n",
      "(0, 0) : (0.5, 0.75)\n",
      "(0, 1) : (1, 0.5)\n",
      "(1, 0) : (0.5, 1)\n",
      "(1, 1) : (0.5, 0.75)\n"
     ]
    },
    {
     "data": {
      "image/png": "[encoded data removed]",
      "text/plain": [
       "<Figure size 432x288 with 1 Axes>"
      ]
     },
     "metadata": {
      "needs_background": "light"
     },
     "output_type": "display_data"
    }
   ],
   "source": [
    "prpff(ut4)\n",
    "pplot(ut4)"
   ]
  },
  {
   "cell_type": "markdown",
   "id": "d546a373-dfd0-4fbf-b1b1-81dffd16f2c2",
   "metadata": {},
   "source": [
    "ohk thats it for now"
   ]
  },
  {
   "cell_type": "code",
   "execution_count": 174,
   "id": "f3a16e60-dc6c-435f-8253-5dabad4490ac",
   "metadata": {},
   "outputs": [],
   "source": [
    "def ut1(x,y):\n",
    "    x1, x2, y1, y2 = x[0], x[1], y[0], y[1]\n",
    "    t = x1&x2\n",
    "    if t == y1^y2:\n",
    "        return{0:(1, 1), 1:(1,1)}[y1] if t == 0 else (1, 1)\n",
    "    else:\n",
    "        return (0,0)"
   ]
  },
  {
   "cell_type": "markdown",
   "id": "3fd080e9-7c97-41ca-b71d-e6aff8fd0d0d",
   "metadata": {},
   "source": [
    "# Critisms\n",
    "\n",
    "**Only incase i'm right, but i'm sure i'm wrong :P**\n",
    "\n",
    "1. Feels like this paper just slightly tweaked the already well established CHSH game and uses the smae winning strategy, at the same time claiming a stark contrast emphasising by conflicting interest. \n",
    "2. Battle of sex payoff structure just happened to be slightly different to the common interest CHSH for which the adventage could be shown with the same experintal setup of already prior established CSHS advantage. "
   ]
  },
  {
   "cell_type": "code",
   "execution_count": null,
   "id": "bd672bde-aed8-4623-b254-a78d9d09c5da",
   "metadata": {},
   "outputs": [],
   "source": []
  },
  {
   "cell_type": "markdown",
   "id": "a72235f1-bbc7-4a3d-ae3a-2d70aabed045",
   "metadata": {},
   "source": [
    "# Extra tryouts\n",
    "\n",
    "## Any significance of Phase?\n",
    "\n",
    "### lets try entangled state and orthormal basis with complex amplitudes"
   ]
  },
  {
   "cell_type": "code",
   "execution_count": null,
   "id": "e9932ebe-44e5-40b1-8de4-346552dd3f76",
   "metadata": {},
   "outputs": [],
   "source": []
  },
  {
   "cell_type": "code",
   "execution_count": 272,
   "id": "c63290f0-0267-4233-97e0-5628ce2f6982",
   "metadata": {},
   "outputs": [],
   "source": [
    "\n",
    "cphi = lambda y, t: np.cos(t)*k0 + 1j*np.sin(t)*k1 if y ==0 else -np.sin(t)*k0 + 1j*np.cos(t)*k1\n",
    "\n",
    "cP = lambda y, t: np.outer(cphi(y, t), np.conj(cphi(y, t)))\n",
    "# Phip = 1/2**0.5*(np.kron(k0,k0) + 1jnp.kron(k1,k1))\n"
   ]
  },
  {
   "cell_type": "code",
   "execution_count": 273,
   "id": "8f12efbf-7a95-4508-883c-11399430f104",
   "metadata": {},
   "outputs": [],
   "source": [
    "def Fq(X, px, Y, pyx, u, th):\n",
    "    f1, f2 = 0, 0\n",
    "    for x in X:\n",
    "        i = x[1]*1 + x[0]*2\n",
    "        for y in Y:\n",
    "            f1 += px[i]*pyx(x,y, th)*u(x, y)[0]\n",
    "            f2 += px[i]*pyx(x,y, th)*u(x, y)[1]\n",
    "    return f1,f2"
   ]
  },
  {
   "cell_type": "code",
   "execution_count": 274,
   "id": "62bd5ee9-ecc4-44a6-b817-08ef9c23e509",
   "metadata": {},
   "outputs": [],
   "source": [
    "theta = [(0, np.pi/4), (np.pi/8, -np.pi/8)]\n",
    "def qpyx1(x, y, t = theta):\n",
    "    x1, x2, y1, y2 = x[0], x[1], y[0], y[1]\n",
    "    \n",
    "    psi = 1/2**0.5*(np.kron(k0,k0) + 1j*np.kron(k1,k1))\n",
    "    \n",
    "    return ex(np.kron(cP(y1, t[0][x1]), cP(y2, t[1][x2])), psi)"
   ]
  },
  {
   "cell_type": "code",
   "execution_count": 275,
   "id": "60516a31-8f56-4624-afd4-8f96f3d58170",
   "metadata": {},
   "outputs": [
    {
     "name": "stdout",
     "output_type": "stream",
     "text": [
      "Payoff of (alice, bob) = ((0.5075825214724776+0j), (0.5075825214724776+0j))\n"
     ]
    }
   ],
   "source": [
    "print('Payoff of (alice, bob) =',Fq(S, px, S, qpyx1, u, theta))"
   ]
  },
  {
   "cell_type": "code",
   "execution_count": null,
   "id": "f6297b4d-f75f-409b-adf0-c2e1be6565f4",
   "metadata": {},
   "outputs": [],
   "source": []
  },
  {
   "cell_type": "code",
   "execution_count": 276,
   "id": "e17cfc8d-76e6-4809-8cf9-2cd0bdc0966b",
   "metadata": {},
   "outputs": [],
   "source": [
    "t = np.linspace(0, np.pi/2, 5)\n",
    "\n",
    "pffs  = []\n",
    "\n",
    "for j, k, l, m in it.product(t,t,t,t):\n",
    "    pffs.append(Fq(S, px, S, qpyx1, u, [(0 + j, np.pi/4 + k), (np.pi/8 + l, -np.pi/8 + m)]))\n",
    "    pffs.append(Fq(S, px, S, qpyx1, u, [(0 - j, np.pi/4 - k), (np.pi/8 - l, -np.pi/8 - m)]))"
   ]
  },
  {
   "cell_type": "code",
   "execution_count": 277,
   "id": "7746e583-b2c9-46a5-8822-90b11ffd2524",
   "metadata": {},
   "outputs": [
    {
     "name": "stderr",
     "output_type": "stream",
     "text": [
      "/home/vambala/.local/lib/python3.9/site-packages/numpy/core/_asarray.py:136: ComplexWarning: Casting complex values to real discards the imaginary part\n",
      "  return array(a, dtype, copy=False, order=order, subok=True)\n"
     ]
    },
    {
     "data": {
      "text/plain": [
       "Text(0, 0.5, 'bob payoff')"
      ]
     },
     "execution_count": 277,
     "metadata": {},
     "output_type": "execute_result"
    },
    {
     "data": {
      "image/png": "[encoded data removed]",
      "text/plain": [
       "<Figure size 432x288 with 1 Axes>"
      ]
     },
     "metadata": {
      "needs_background": "light"
     },
     "output_type": "display_data"
    }
   ],
   "source": [
    "a, b = zip(*pffs)\n",
    "plt.scatter(a,b)\n",
    "plt.xlabel('alice payoff')\n",
    "plt.ylabel('bob payoff')"
   ]
  },
  {
   "cell_type": "markdown",
   "id": "b761aa78-a35a-4758-8a3b-3befb45622bf",
   "metadata": {},
   "source": [
    "#### Ok, nothing special for now"
   ]
  },
  {
   "cell_type": "markdown",
   "id": "6853282a-dcd8-444d-940d-f43b4a3bc2e6",
   "metadata": {},
   "source": [
    "# rough"
   ]
  },
  {
   "cell_type": "code",
   "execution_count": 120,
   "id": "958547fb-ba23-4a02-aa38-7311489e2cbc",
   "metadata": {},
   "outputs": [
    {
     "name": "stdout",
     "output_type": "stream",
     "text": [
      "0.4267766952966368\n",
      "0.0732233047033631\n",
      "0.0732233047033631\n",
      "0.4267766952966368\n",
      "0.4267766952966368\n",
      "0.0732233047033631\n",
      "0.0732233047033631\n",
      "0.4267766952966368\n",
      "0.42677669529663687\n",
      "0.07322330470336304\n",
      "0.07322330470336304\n",
      "0.42677669529663687\n",
      "0.07322330470336313\n",
      "0.42677669529663675\n",
      "0.42677669529663675\n",
      "0.07322330470336313\n"
     ]
    }
   ],
   "source": [
    "for x in S:\n",
    "    i = x[1]*1 + x[0]*2\n",
    "    for y in S:\n",
    "        print(qpyx(x, y))  "
   ]
  },
  {
   "cell_type": "code",
   "execution_count": 264,
   "id": "fffa17d0-b0d4-4774-a9ea-9cea31ec8abb",
   "metadata": {},
   "outputs": [
    {
     "data": {
      "text/plain": [
       "0j"
      ]
     },
     "execution_count": 264,
     "metadata": {},
     "output_type": "execute_result"
    }
   ],
   "source": [
    "np.dot(np.conj(cphi(0, np.pi/4)), cphi(1, np.pi/4))"
   ]
  },
  {
   "cell_type": "code",
   "execution_count": 102,
   "id": "165c9a0f-a3dd-47a6-8165-8235ee391f5e",
   "metadata": {},
   "outputs": [
    {
     "data": {
      "text/plain": [
       "array([-0.70710678,  0.70710678])"
      ]
     },
     "execution_count": 102,
     "metadata": {},
     "output_type": "execute_result"
    }
   ],
   "source": [
    "phi(1, np.pi/4)"
   ]
  },
  {
   "cell_type": "code",
   "execution_count": 104,
   "id": "8c196772-fe58-4b4c-b472-d6d2513cdbcc",
   "metadata": {},
   "outputs": [
    {
     "data": {
      "text/plain": [
       "array([[ 0.5, -0.5],\n",
       "       [-0.5,  0.5]])"
      ]
     },
     "execution_count": 104,
     "metadata": {},
     "output_type": "execute_result"
    }
   ],
   "source": [
    "P(1, np.pi/4)"
   ]
  },
  {
   "cell_type": "code",
   "execution_count": 128,
   "id": "7558ea81-c513-4d3a-96b3-5cff8ddc0f1f",
   "metadata": {},
   "outputs": [
    {
     "data": {
      "text/plain": [
       "0.42677669529663687"
      ]
     },
     "execution_count": 128,
     "metadata": {},
     "output_type": "execute_result"
    }
   ],
   "source": [
    "np.trace(np.dot(P(0, 0),P(0, np.pi/8)))/2"
   ]
  },
  {
   "cell_type": "code",
   "execution_count": 126,
   "id": "69516eb9-f0ef-41a0-be71-90093b0fc2e9",
   "metadata": {},
   "outputs": [
    {
     "data": {
      "text/plain": [
       "0.42677669529663687"
      ]
     },
     "execution_count": 126,
     "metadata": {},
     "output_type": "execute_result"
    }
   ],
   "source": [
    "np.cos(np.pi/8)**2/2"
   ]
  },
  {
   "cell_type": "code",
   "execution_count": 106,
   "id": "4fc4a635-4a70-4923-80e1-3e15677964d3",
   "metadata": {},
   "outputs": [
    {
     "data": {
      "text/plain": [
       "array([1, 0, 0, 0])"
      ]
     },
     "execution_count": 106,
     "metadata": {},
     "output_type": "execute_result"
    }
   ],
   "source": [
    "np.kron(k0,k0)"
   ]
  },
  {
   "cell_type": "code",
   "execution_count": 116,
   "id": "b0aac3d6-fc6c-4868-8c23-193e70e0ca4d",
   "metadata": {},
   "outputs": [
    {
     "data": {
      "text/plain": [
       "0.5000000000000001"
      ]
     },
     "execution_count": 116,
     "metadata": {},
     "output_type": "execute_result"
    }
   ],
   "source": [
    "np.dot(k1, np.dot(P(1, np.pi/4),k1))"
   ]
  },
  {
   "cell_type": "code",
   "execution_count": 117,
   "id": "e2f6c13c-b5d0-4328-ba83-27161af9a706",
   "metadata": {},
   "outputs": [
    {
     "data": {
      "text/plain": [
       "array([-0.5,  0.5])"
      ]
     },
     "execution_count": 117,
     "metadata": {},
     "output_type": "execute_result"
    }
   ],
   "source": [
    "ex(k1,P(1, np.pi/4))"
   ]
  },
  {
   "cell_type": "code",
   "execution_count": 47,
   "id": "8a2337f9-f1b3-443b-8927-96a4ddd8964d",
   "metadata": {},
   "outputs": [
    {
     "data": {
      "text/plain": [
       "0"
      ]
     },
     "execution_count": 47,
     "metadata": {},
     "output_type": "execute_result"
    }
   ],
   "source": [
    "S[0][1]&0"
   ]
  },
  {
   "cell_type": "code",
   "execution_count": 38,
   "id": "e4166079-30ef-4bab-8a0f-9a8c490c6547",
   "metadata": {},
   "outputs": [
    {
     "name": "stdout",
     "output_type": "stream",
     "text": [
      "0 0 : 0\n",
      "0 1 : 0\n",
      "1 0 : 1\n",
      "1 1 : 0\n"
     ]
    }
   ],
   "source": [
    "for i,j in it.product([0,1],[0,1]):\n",
    "    print(i,j, ':', i&j^i)"
   ]
  },
  {
   "cell_type": "code",
   "execution_count": 13,
   "id": "970e7a26-da92-4a8f-b54d-6240b9564af1",
   "metadata": {},
   "outputs": [
    {
     "data": {
      "text/plain": [
       "[(0, 0), (0, 1), (1, 0), (1, 1)]"
      ]
     },
     "execution_count": 13,
     "metadata": {},
     "output_type": "execute_result"
    }
   ],
   "source": [
    "list(it.product([0,1],[0,1]))"
   ]
  },
  {
   "cell_type": "code",
   "execution_count": 19,
   "id": "295b9ab5-bacc-4b7a-b29e-e8b46feaf4b6",
   "metadata": {},
   "outputs": [
    {
     "data": {
      "text/plain": [
       "[array([[0, 1],\n",
       "        [0, 1]]),\n",
       " array([[0, 0],\n",
       "        [1, 1]])]"
      ]
     },
     "execution_count": 19,
     "metadata": {},
     "output_type": "execute_result"
    }
   ],
   "source": [
    "a = np.array([0,1])\n",
    "np.meshgrid(a,a)"
   ]
  },
  {
   "cell_type": "code",
   "execution_count": 33,
   "id": "f0b8985f-7e22-4b7f-8d15-5ffe86f22eb9",
   "metadata": {},
   "outputs": [
    {
     "name": "stderr",
     "output_type": "stream",
     "text": [
      "UsageError: Line magic function `%1` not found.\n"
     ]
    }
   ],
   "source": []
  },
  {
   "cell_type": "code",
   "execution_count": 59,
   "id": "01442c3d-77ba-4480-a392-f5bf035219ac",
   "metadata": {},
   "outputs": [],
   "source": [
    "def u(x,y):\n",
    "    x1, x2, y1, y2 = x[0], x[1], y[0], y[1]\n",
    "    t = x1&x2\n",
    "    if t == y1^y2:\n",
    "        return (1,1/2) if y1|t == 0 else (1/2 + 1/4*int(t^y1|t), 1 - 1/4*int(t^y1|t)) \n",
    "    else:\n",
    "        return (0,0)"
   ]
  },
  {
   "cell_type": "code",
   "execution_count": null,
   "id": "4e457a4f-6455-4048-83a3-340fb66a363c",
   "metadata": {},
   "outputs": [],
   "source": []
  },
  {
   "cell_type": "code",
   "execution_count": 182,
   "id": "24460270-47eb-4ec5-9aec-f0fcf8b0d635",
   "metadata": {},
   "outputs": [
    {
     "ename": "ModuleNotFoundError",
     "evalue": "No module named 'numpy.typing'",
     "output_type": "error",
     "traceback": [
      "\u001b[0;31m---------------------------------------------------------------------------\u001b[0m",
      "\u001b[0;31mModuleNotFoundError\u001b[0m                       Traceback (most recent call last)",
      "\u001b[0;32m<ipython-input-182-6040e8a01726>\u001b[0m in \u001b[0;36m<module>\u001b[0;34m\u001b[0m\n\u001b[0;32m----> 1\u001b[0;31m \u001b[0;32mimport\u001b[0m \u001b[0mnumpy\u001b[0m\u001b[0;34m.\u001b[0m\u001b[0mtyping\u001b[0m \u001b[0;32mas\u001b[0m \u001b[0mnpt\u001b[0m\u001b[0;34m\u001b[0m\u001b[0;34m\u001b[0m\u001b[0m\n\u001b[0m\u001b[1;32m      2\u001b[0m \u001b[0;34m\u001b[0m\u001b[0m\n\u001b[1;32m      3\u001b[0m \u001b[0;34m\u001b[0m\u001b[0m\n\u001b[1;32m      4\u001b[0m \u001b[0;32mdef\u001b[0m \u001b[0mgenerateConvex\u001b[0m\u001b[0;34m(\u001b[0m\u001b[0mn\u001b[0m\u001b[0;34m:\u001b[0m \u001b[0mint\u001b[0m\u001b[0;34m)\u001b[0m \u001b[0;34m->\u001b[0m \u001b[0mnpt\u001b[0m\u001b[0;34m.\u001b[0m\u001b[0mNDArray\u001b[0m\u001b[0;34m[\u001b[0m\u001b[0mnp\u001b[0m\u001b[0;34m.\u001b[0m\u001b[0mfloat64\u001b[0m\u001b[0;34m]\u001b[0m\u001b[0;34m:\u001b[0m\u001b[0;34m\u001b[0m\u001b[0;34m\u001b[0m\u001b[0m\n\u001b[1;32m      5\u001b[0m     '''\n",
      "\u001b[0;31mModuleNotFoundError\u001b[0m: No module named 'numpy.typing'"
     ]
    }
   ],
   "source": [
    "import numpy.typing as npt\n",
    "\n",
    "\n",
    "def generateConvex(n: int) -> npt.NDArray[np.float64]:\n",
    "    '''\n",
    "    Generate convex shappes according to Pavel Valtr's 1995 alogrithm. Ported from\n",
    "    Sander Verdonschot's Java version, found here:\n",
    "    https://cglab.ca/~sander/misc/ConvexGeneration/ValtrAlgorithm.java\n",
    "    '''\n",
    "    # initialise random coordinates\n",
    "    X_rand, Y_rand = np.sort(np.random.random(n)), np.sort(np.random.random(n))\n",
    "    X_new, Y_new = np.zeros(n), np.zeros(n)\n",
    "\n",
    "    # divide the interior points into two chains\n",
    "    last_true = last_false = 0\n",
    "    for i in range(1, n):\n",
    "        if i != n - 1:\n",
    "            if random.getrandbits(1):\n",
    "                X_new[i] = X_rand[i] - X_rand[last_true]\n",
    "                Y_new[i] = Y_rand[i] - Y_rand[last_true]\n",
    "                last_true = i\n",
    "            else:\n",
    "                X_new[i] = X_rand[last_false] - X_rand[i]\n",
    "                Y_new[i] = Y_rand[last_false] - Y_rand[i]\n",
    "                last_false = i\n",
    "        else:\n",
    "            X_new[0] = X_rand[i] - X_rand[last_true]\n",
    "            Y_new[0] = Y_rand[i] - Y_rand[last_true]\n",
    "            X_new[i] = X_rand[last_false] - X_rand[i]\n",
    "            Y_new[i] = Y_rand[last_false] - Y_rand[i]\n",
    "\n",
    "    # randomly combine x and y and sort by polar angle\n",
    "    np.random.shuffle(Y_new)\n",
    "    vertices = np.stack((X_new, Y_new), axis=-1)\n",
    "    vertices = vertices[np.argsort(np.arctan2(vertices[:, 1], vertices[:, 0]))]\n",
    "\n",
    "    # arrange points end to end to form a polygon\n",
    "    vertices = np.cumsum(vertices, axis=0)\n",
    "\n",
    "    # center around the origin\n",
    "    x_max, y_max = np.max(vertices[:, 0]), np.max(vertices[:, 1])\n",
    "    vertices[:, 0] += ((x_max - np.min(vertices[:, 0])) / 2) - x_max\n",
    "    vertices[:, 1] += ((y_max - np.min(vertices[:, 1])) / 2) - y_max\n",
    "\n",
    "    return vertices"
   ]
  },
  {
   "cell_type": "code",
   "execution_count": 183,
   "id": "815167c6-77d6-4688-9d55-f57b1bb230dc",
   "metadata": {},
   "outputs": [],
   "source": [
    "import random\n",
    "from math import atan2\n",
    "\n",
    "\n",
    "def to_convex_contour(vertices_count,\n",
    "                      x_generator=random.random,\n",
    "                      y_generator=random.random):\n",
    "    \"\"\"\n",
    "    Port of Valtr algorithm by Sander Verdonschot.\n",
    "\n",
    "    Reference:\n",
    "        http://cglab.ca/~sander/misc/ConvexGeneration/ValtrAlgorithm.java\n",
    "\n",
    "    >>> contour = to_convex_contour(20)\n",
    "    >>> len(contour) == 20\n",
    "    True\n",
    "    \"\"\"\n",
    "    xs = [x_generator() for _ in range(vertices_count)]\n",
    "    ys = [y_generator() for _ in range(vertices_count)]\n",
    "    xs = sorted(xs)\n",
    "    ys = sorted(ys)\n",
    "    min_x, *xs, max_x = xs\n",
    "    min_y, *ys, max_y = ys\n",
    "    vectors_xs = _to_vectors_coordinates(xs, min_x, max_x)\n",
    "    vectors_ys = _to_vectors_coordinates(ys, min_y, max_y)\n",
    "    random.shuffle(vectors_ys)\n",
    "\n",
    "    def to_vector_angle(vector):\n",
    "        x, y = vector\n",
    "        return atan2(y, x)\n",
    "\n",
    "    vectors = sorted(zip(vectors_xs, vectors_ys),\n",
    "                     key=to_vector_angle)\n",
    "    point_x = point_y = 0\n",
    "    min_polygon_x = min_polygon_y = 0\n",
    "    points = []\n",
    "    for vector_x, vector_y in vectors:\n",
    "        points.append((point_x, point_y))\n",
    "        point_x += vector_x\n",
    "        point_y += vector_y\n",
    "        min_polygon_x = min(min_polygon_x, point_x)\n",
    "        min_polygon_y = min(min_polygon_y, point_y)\n",
    "    shift_x, shift_y = min_x - min_polygon_x, min_y - min_polygon_y\n",
    "    return [(point_x + shift_x, point_y + shift_y)\n",
    "            for point_x, point_y in points]\n",
    "\n",
    "\n",
    "def _to_vectors_coordinates(coordinates, min_coordinate, max_coordinate):\n",
    "    last_min = last_max = min_coordinate\n",
    "    result = []\n",
    "    for coordinate in coordinates:\n",
    "        if _to_random_boolean():\n",
    "            result.append(coordinate - last_min)\n",
    "            last_min = coordinate\n",
    "        else:\n",
    "            result.append(last_max - coordinate)\n",
    "            last_max = coordinate\n",
    "    result.extend((max_coordinate - last_min,\n",
    "                   last_max - max_coordinate))\n",
    "    return result\n",
    "\n",
    "\n",
    "def _to_random_boolean():\n",
    "    return random.getrandbits(1)"
   ]
  },
  {
   "cell_type": "code",
   "execution_count": 187,
   "id": "922f96d3-8b87-4edd-9ae5-57c5ce934088",
   "metadata": {},
   "outputs": [
    {
     "data": {
      "text/plain": [
       "[(0.7632372120178594, 0.9612072403155246),\n",
       " (0.29180065042137693, 0.7820159284485971)]"
      ]
     },
     "execution_count": 187,
     "metadata": {},
     "output_type": "execute_result"
    }
   ],
   "source": [
    "to_convex_contour(2)"
   ]
  },
  {
   "cell_type": "code",
   "execution_count": 198,
   "id": "c1a29961-19d8-4f01-a7c7-83959ca2e601",
   "metadata": {},
   "outputs": [
    {
     "data": {
      "text/plain": [
       "<matplotlib.collections.PathCollection at 0x7f5b90284340>"
      ]
     },
     "execution_count": 198,
     "metadata": {},
     "output_type": "execute_result"
    },
    {
     "data": {
      "image/png": "[encoded data removed]",
      "text/plain": [
       "<Figure size 432x288 with 1 Axes>"
      ]
     },
     "metadata": {
      "needs_background": "light"
     },
     "output_type": "display_data"
    }
   ],
   "source": [
    "x, y =  zip(*to_convex_contour(20))\n",
    "plt.scatter(x,y)"
   ]
  },
  {
   "cell_type": "code",
   "execution_count": null,
   "id": "fb21b716-48b9-4a03-ac05-bfb374e3b19c",
   "metadata": {},
   "outputs": [],
   "source": []
  }
 ],
 "metadata": {
  "kernelspec": {
   "display_name": "Python 3",
   "language": "python",
   "name": "python3"
  },
  "language_info": {
   "codemirror_mode": {
    "name": "ipython",
    "version": 3
   },
   "file_extension": ".py",
   "mimetype": "text/x-python",
   "name": "python",
   "nbconvert_exporter": "python",
   "pygments_lexer": "ipython3",
   "version": "3.9.5"
  }
 },
 "nbformat": 4,
 "nbformat_minor": 5
}
