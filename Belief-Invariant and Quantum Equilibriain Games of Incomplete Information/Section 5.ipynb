{
 "cells": [
  {
   "cell_type": "markdown",
   "id": "02e92421-cdfa-43b1-8b36-9b504cde2cad",
   "metadata": {},
   "source": [
    "# Quantum formulism"
   ]
  },
  {
   "cell_type": "markdown",
   "id": "89395f11-5238-4f52-888b-d182be70096c",
   "metadata": {},
   "source": [
    "## POVMs\n",
    "\n",
    "A positive operator-valued measure (POVM) is a set $\\left\\{M_{s}\\right\\}_{s}$ of operators that satisfy non-negativity and completeness:\n",
    "$$\n",
    "\\forall s: M_{s} \\geq 0, \\quad \\sum_{s} M_{s}=I .\n",
    "$$\n",
    "- The probability for obtaining outcome $s$ acting on a density operator $\\rho$ (pure or mixed):\n",
    "\n",
    "    $$Tr\\{\\rho M_s\\}$$\n",
    "\n",
    "    on pure statevector: $ \\left\\langle\\psi\\left|M_{s}\\right| \\psi\\right\\rangle,$\n",
    "\n",
    "- we don't have to care about post measurement state for POVMs"
   ]
  },
  {
   "cell_type": "markdown",
   "id": "4334b382-101d-4975-9d28-fc1ee040e8df",
   "metadata": {},
   "source": [
    "### The one given in the paper:\n",
    "\n",
    "$$M_s = \\sum_x \\mu_s(x)|x\\rangle \\langle x|$$\n",
    "\n",
    "where $\\{|x\\rangle\\}$ is some fixed orthonormal basis, and $\\mu_s \\geq 0 \\, \\forall s \\in S$ with $\\sum_s \\mu_s(x) = 1 \\,\\, \\forall x$.\n",
    "\n",
    "Completeness check: $$\\sum_{s} M_{s} = \\sum_{s} \\sum_x \\mu_s(x)|x\\rangle \\langle x| = \\sum_x  \\sum_{s} \\mu_s(x)|x\\rangle \\langle x| = \\sum_x |x\\rangle \\langle x| = 1$$\n",
    "\n",
    "#### Examples\n",
    "1. $\\Big\\{ M_1 = |0\\rangle \\langle 0| + \\frac{1}{2} |1\\rangle \\langle 1| + \\frac{1}{4} |2\\rangle \\langle 2|,\\quad M_2 = \\frac{1}{2} |1\\rangle \\langle 1| + \\frac{1}{2} |2\\rangle \\langle 2|, \\quad M_3 = \\frac{1}{4} |2\\rangle \\langle 2|\\Big \\}$\n",
    "\n",
    "2. $\\Big\\{ M_1 = \\frac{1}{2} |0\\rangle \\langle 0| + \\frac{1}{2} |1\\rangle \\langle 1|,\\quad M_2 = \\frac{1}{2} |0\\rangle \\langle 0| + \\frac{1}{2} |1\\rangle \\langle 1|\\Big \\}$\n",
    "\n",
    "#### Other examples of POVMs that are not of the above form (update: not correct as $M_3$ is not always +ve. will try to rectify)\n",
    "Consider two arbitary nonorthonormal states $|a\\rangle$ and $|b\\rangle$ so that $\\langle a|b\\rangle \\neq 0$. Since $\\langle \\psi| a\\rangle \\langle a|\\psi\\rangle \\geq 0$ for any $|\\psi\\rangle \\in \\mathcal{H}$, the following can be a POVM:\n",
    "\n",
    "$M_1 = |a\\rangle \\langle a|, \\quad M_2 = |b\\rangle \\langle b|, \\quad M_3 = I - |a\\rangle \\langle a| -|b\\rangle \\langle b|$.\n",
    "\n",
    "So any such kind of POVMs can be constructed."
   ]
  },
  {
   "cell_type": "markdown",
   "id": "02c99106-b824-41f0-8491-c11e49a52a2d",
   "metadata": {},
   "source": [
    "#### --- Rectified one ---\n",
    "$M_1 = \\alpha |a\\rangle \\langle a|, \\quad M_2 = \\beta |b\\rangle \\langle b|, \\quad M_3 = I - M_1 - M_3$.\n",
    "\n",
    "Considering normalized states, $\\alpha, \\beta > 0$ just has to satisfy,\n",
    "$$\\alpha + \\beta |\\langle a | b \\rangle|^2, \\quad \\alpha|\\langle a | b \\rangle|^2 + \\beta , \\quad \\beta |\\langle a^{\\perp} | b \\rangle|^2, \\quad \\alpha |\\langle a | b^{\\perp} \\rangle|^2 < 1$$\n",
    "\n",
    "Got this example from wikipedia,\n",
    "$M_1 = \\frac{1}{1 + |\\langle a^{\\perp}|b^{\\perp}\\rangle|}|a\\rangle \\langle a|, \\quad M_2 = \\frac{1}{1 + |\\langle a^{\\perp}|b^{\\perp}\\rangle|}|b\\rangle \\langle b|, \\quad M_3 = I - \\frac{1}{1 + |\\langle a^{\\perp}|b^{\\perp}\\rangle|}\\big(|a\\rangle \\langle a| + |b\\rangle \\langle b|\\big)$."
   ]
  },
  {
   "cell_type": "markdown",
   "id": "25064a1f-f0ea-4769-b763-c1147311c1cb",
   "metadata": {},
   "source": [
    "### Example on two state system\n",
    "\n",
    "Density operators are non-negetive, so the paper adopts a measurement operator claiming it as \"general\" to prove an equilibrium solution, which i guess because it looks like a general density operator on the bloch sphere.\n",
    "\n",
    "<!-- $$\n",
    "X_s(\\alpha_s, \\vec{a_s})=\\frac{1}{2}\\left(\\begin{array}{cc}\n",
    "\\alpha_s +a_{3}^s & a_{1}^s-i a_{2}^s \\\\\n",
    "a_{1}^s+i a_{2}^s & \\alpha_s-a_{3}^s\n",
    "\\end{array}\\right)\n",
    "$$\n",
    "\n",
    "where $(\\alpha_s, \\vec{a_s}) \\in \\mathbb{R}^{4}, \\vec{a_s}=\\left(a_{1}^s, a_{2}^s, a_{3}^s\\right)$, and $\\|\\vec{a_s}\\| \\leq \\alpha_s \\leq 2-\\|\\vec{a_s}\\|$;\n",
    "\n",
    "POVM can be constructed out of it by choosing suitable parameters $(\\alpha_s, \\vec{a_s})$ so that $$\\sum_s X_s(\\alpha_s, \\vec{a_s}) = I$$ \n",
    "\n",
    "However, consider the following POVM constructed out of $X_s$ similar to the first form:\n",
    "\n",
    "$$ \\tilde{X}_s = \\sum_{s^\\prime} \\mu_s(\\alpha_{s^\\prime}, \\vec{a_{s^\\prime}}) X_{s^\\prime}(\\alpha_{s^\\prime}, \\vec{a_{s^\\prime}})$$\n",
    "where $ \\sum_s \\mu_s(\\alpha_{s^\\prime}, \\vec{a_{s^\\prime}}) = 1 \\,\\, \\forall s$ and $\\sum_{s^\\prime} X_{s^\\prime}(\\alpha_{s^\\prime}, \\vec{a_{s^\\prime}}) = I \\,\\,$. -->\n",
    "\n",
    "--- Rectified ---\n",
    "$$\n",
    "X_0(\\alpha, \\vec{a})=\\frac{1}{2}\\left(\\begin{array}{cc}\n",
    "\\alpha +a_{3} & a_{1}-i a_{2} \\\\\n",
    "a_{1}+i a_{2} & \\alpha-a_{3}\n",
    "\\end{array}\\right)\n",
    "$$\n",
    "\n",
    "where $(\\alpha, \\vec{a}) \\in \\mathbb{R}^{4}, \\vec{a}=\\left(a_{1}, a_{2}, a_{3}\\right)$, and $\\|\\vec{a}\\| \\leq \\alpha \\leq 2-\\|\\vec{a}\\|$;\n",
    "\n",
    "And  $X_1 = I - X_0$ \n",
    "\n",
    "- consider the following POVM constructed out of $X_v$ (where $v \\in \\{0,1\\}$) similar to the form of above $M_s$:\n",
    "\n",
    "$$ \\tilde{X}_s = \\sum_{v} \\mu_s^v X_{v}(\\alpha, \\vec{a})$$\n",
    "\n",
    "where $\\mu_s^v \\geq 0$ and $ \\sum_s \\mu_s^v = 1 $ and $\\sum_{v} X_{v}(\\alpha, \\vec{a}) = I \\,\\,$.\n"
   ]
  },
  {
   "cell_type": "markdown",
   "id": "40dcf302-d12f-4bbe-906d-1d0f7fe54a8b",
   "metadata": {},
   "source": [
    "## Questions\n",
    "1. (rectified, i guess now its trivial) Does there exist $(\\alpha^{\\prime}, \\vec{a}^{\\prime})$ such that $X_v(\\alpha^{\\prime}, \\vec{a}^{\\prime}) = \\tilde{X_s}(\\alpha, \\vec{a})$?\n",
    "2. Since a strategy is defined as POVM in this framework, does $X$ produce all possible POVMs to be called \"general\"? \n",
    "    - Ans: Was confirmed in last meeting that this perameterized operator can produce set of all possible POVMs. \n",
    "\n",
    "But what's still confusing me is the fact $|\\{M_s\\}_s| \\geq dim(\\mathcal{H})$ as we can clearly see in the non-orthnormal example. Forgive me if this was already answered.\n",
    "\n",
    "#### Equivalence?\n",
    "\n",
    "3. Consider a pure state $\\rho \\in \\mathcal{D}(\\otimes_i\\mathcal{H}_i)$ and POVMs $M_s^{(i)}$. Does there exists a mixed state $\\tilde{\\rho}$ such that:\n",
    "\n",
    "    $$Tr \\rho \\otimes_i M_s^{(i)} = Tr \\tilde{\\rho} \\otimes_i \\Pi_s^{(i)} \\quad \\forall s$$\n",
    "    \n",
    "    where $\\Pi_s^{(i)}$ is projective measurent on any orthonormal basis"
   ]
  },
  {
   "cell_type": "markdown",
   "id": "09b1e69d-f773-47a4-94d1-8806754feb2f",
   "metadata": {},
   "source": [
    "### Convex combonation of POVMs\n",
    "consider $$\\tilde{M_s} = \\sum_j p_j M^j_s$$\n",
    "where $p_j \\geq 0$ and $\\sum_j p_j = 1$ and M^j_s are different different POVMs with same number of outcomes\n",
    "\n",
    "this is a POVM as $$\\sum_s \\tilde{M_s} = \\sum_j p_j \\sum_s M^j_s = I$$\n",
    "\n",
    "#### Example\n",
    "$\\tilde{M_1} = \\frac{1}{2} |0\\rangle \\langle 0| + \\frac{1}{2} |+\\rangle \\langle +|, \\quad \\tilde{M_2} = \\frac{1}{2} |1\\rangle \\langle 1| + \\frac{1}{2} |-\\rangle \\langle -|$\n",
    "\n",
    "3. (an old doubt) Does this physically mean someone chooses to measure in $Z$ basis half of the time and $X$ basis other half of the time?\n",
    "\n",
    "if so aint this is equivalent to someone applying unitaries $U^j$ with probablity $p_j$ to form a mixed state and measuring on computational basis  \n",
    "\n"
   ]
  },
  {
   "cell_type": "markdown",
   "id": "7cda5816-23ce-4e6b-b87d-b4b7e4067500",
   "metadata": {},
   "source": [
    "## Quantum formulism\n",
    "1. correlation device assigns hilbert spaces $\\mathcal{H_i}$ (a qudit register) to each player $i$ and implements a joint density operator $\\rho$ on the joint hilbert space $\\mathcal{H} = \\bigotimes_i \\mathcal{H_i}$.\n",
    "    1. The $\\rho$ can be pure or mixed. Infact, the ensample of the composite pure states can be eigther from a joint or disjoint distributions. \n",
    "2. Sends the respective qudit registers to its assinged players so they can do the local measurement $M^{t_i}$ based on their type to get their suggestions $s_i$.\n",
    "3. So in this setup, its not just other players that has no idea about a players private buisness with the coorrelation device, infact there is no \"private buisness\" since now the device has no idea about players type and aswell as their measurement outcome.\n",
    "\n",
    "So the formulation now is,\n",
    "$$Q(s \\mid r) = Tr(\\rho M^r_s)$$\n",
    "\n",
    "Where  $M_s^r = \\bigotimes_i M_{s_i}^{r_i}$\n"
   ]
  },
  {
   "cell_type": "markdown",
   "id": "09080289-fd54-4550-a099-9db47b0e646e",
   "metadata": {},
   "source": [
    "### Belief invariance:\n",
    "\n",
    "$\\sum_{s_J} \\bigotimes_{j \\in J}M^{r_j}_{s_j} = \\bigotimes_{j \\in J}\\sum_{s_j} M^{r_j}_{s_j} = \\bigotimes_{j \\in J} \\mathbb{1}$. So,\n",
    "\n",
    "$\\begin{aligned}\n",
    "\\sum_{s_{J} \\in S_{J}} q\\left(s_{I}, s_{J} \\mid r_{I}, r_{J}\\right) &=\\sum_{s_{J} \\in S_{J}} \\operatorname{Tr} \\rho\\left(\\bigotimes_{i \\in I} M_{s_{i}}^{r_{i}} \\otimes \\bigotimes_{j \\in J} M_{s_{j}}^{r_{j}}\\right) \\\\\n",
    "&=\\operatorname{Tr} \\rho\\left(\\bigotimes_{i \\in I} M_{s_{i}}^{r_{i}} \\otimes \\bigotimes_{j \\in J} \\mathbb{1}\\right) \\\\\n",
    "&=\\sum_{s_{J} \\in S_{J}} \\operatorname{Tr} \\rho\\left(\\bigotimes_{i \\in I} M_{s_{i}}^{r_{i}} \\otimes \\bigotimes_{j \\in J} M_{s_{j}}^{r_{j}^{\\prime}}\\right) \\\\\n",
    "&=\\sum_{s_{J} \\in S_{J}} q\\left(s_{I}, s_{J} \\mid r_{I}, r_{J}^{\\prime}\\right),\n",
    "\\end{aligned}$"
   ]
  },
  {
   "cell_type": "markdown",
   "id": "867a7266-a702-43f0-a009-acb28aa1dd6b",
   "metadata": {},
   "source": [
    "### emulating classical correlations.\n",
    "\n",
    "1. Local correlation: $Q(\\mathbf{s} \\mid \\mathbf{r})=\\sum_{\\gamma} V(\\gamma) L_{1}\\left(s_{1} \\mid r_{1} \\gamma_{1}\\right) \\cdots L_{n}\\left(s_{n} \\mid r_{n} \\gamma_{n}\\right)$\n",
    "\n",
    "    $$\n",
    "\\begin{gathered}\n",
    "\\rho=\\sum_{\\gamma} V(\\gamma)\\left|\\gamma_{1}\\right\\rangle\\left\\langle\\gamma_{1}|\\otimes \\cdots \\otimes| \\gamma_{n}\\right\\rangle\\left\\langle\\gamma_{n}\\right|, \\quad\n",
    "M_{s_{i}}^{r_{i}}=\\sum L_{i}\\left(s_{i} \\mid r_{i} \\gamma_{i}\\right)\\left|\\gamma_{i}\\right\\rangle\\left\\langle\\gamma_{i}\\right|\n",
    "\\end{gathered}\n",
    "$$\n",
    "    So, $$\n",
    "\\operatorname{LOC}(S \\mid R) \\subset \\mathrm{Q}(S \\mid R) \\subset \\operatorname{BINV}(S \\mid R)\n",
    "$$\n",
    "\n",
    "\n",
    "     **For me to remember:** *demostrate the spiderman distribution!*\n",
    "\n",
    "2. canonical correlation:\n",
    "    $$\n",
    "\\begin{aligned}\n",
    "\\rho =\\sum_{\\mathbf{s}} Q(\\mathbf{s})\\left|s_{1}\\right\\rangle\\left\\langle s_{1}|\\otimes \\cdots \\otimes| s_{n}\\right\\rangle\\left\\langle s_{n}\\right|, \\quad\n",
    "M_{a_{i}}^{t_{i}} =\\sum_{s_{i}} \\delta_{g_{i}\\left(t_{i}, s_{i}\\right), a_{i}}\\left|s_{i}\\right\\rangle\\left\\langle s_{i}\\right|\n",
    "\\end{aligned}\n",
    "$$\n",
    "\n",
    "So classical correlations can be emulated with mixed density operator of pure orthonormal states and suitable POVMs.\n",
    "\n",
    "### To try:\n",
    "<!-- 1. emulate classical correlation with ensamples orthonormal composite pure states with joint probablity distribution like $\\rho = \\sum_s q(s)|s\\rangle\\langle s|$ and suitable POVMs . -->\n",
    "1. \n",
    "2. emulate classical correlations with tensor product of superposition states.\n"
   ]
  },
  {
   "cell_type": "markdown",
   "id": "af9d46bc-afd7-444b-9a4b-2d1117988c31",
   "metadata": {},
   "source": [
    "$V(\\lambda) = \\prod_i V_i(\\lambda_i)$"
   ]
  },
  {
   "cell_type": "markdown",
   "id": "c731d564-ae62-4283-b264-b58c20fd4056",
   "metadata": {},
   "source": [
    "### A notation for unilateral deviation of measurement strategy:\n",
    "$$[X_{s_i}^{r_i}]M_{-s_i}^{-r_i} = \\bigotimes_{j<i}M_{s_j}^{r_j}\\otimes X_{s_i}^{r_i} \\otimes  \\bigotimes_{j>i}M_{s_j}^{r_j}$$\n",
    "\n",
    "### what $f_i$ is now on this setup:\n",
    "Since the quantum correlation device does not take any inputs there is no point of $R_i$ in here. So players can choose any measurements they want from the infinte set $M(\\mathcal{H_i}, S_i)$ based on their type. So the prior input strategy $f_i$ tranforms to POVM strategy in the quantum setup as follows:\n",
    "$$\\big\\{f_i: T_i \\rightarrow R_i\\big\\} \\longleftrightarrow \\big\\{M_i: T_i \\rightarrow M(\\mathcal{H_i}, S_i)\\big\\}$$\n",
    "\n",
    "So now $M^{r_i}$ is redenoted as $M_i(t_i) = M^{t_i}$.\n",
    "\n",
    "## Canonical correlation and solution\n",
    "\n",
    "If we have $M_{a_{i}}^{t_{i}} =\\sum_{s_{i}} \\delta_{g_{i}\\left(t_{i}, s_{i}\\right), a_{i}}\\left|s_{i}\\right\\rangle\\left\\langle s_{i}\\right|$ or directly the observables as actions $A_i$, then we can write the representaion of cannonical correlation:\n",
    "$$Q(a \\mid t) = Tr(\\rho M^t_a)$$\n",
    "\n",
    "We now have $\\left(M^{\\mathbf{t}}, \\rho\\right)$ as equilibrium for all $i$, $t_i$ and $X_{a_i}^{t_i} \\in M(\\mathcal{H_i}, A_i)\\big\\}$ if:\n",
    "\n",
    "$$\n",
    "\\left\\langle v_{i, t_{i}}\\left(M^{\\mathbf{t}}, \\rho\\right)\\right\\rangle =\\sum_{\\mathbf{t}_{-i, \\mathbf{a}}} P\\left(\\mathbf{t}_{-i} \\mid t_{i}\\right) \\operatorname{Tr}\\left(\\rho M^t_a\\right) v_{i}(\\mathbf{t}, \\mathbf{a}) \\geq \\sum_{\\mathbf{t}_{-i}, \\mathbf{a}} P\\left(\\mathbf{t}_{-i} \\mid t_{i}\\right) \\operatorname{Tr}\\left(\\rho [X_{a_i}^{t_i}]M_{-a_i}^{-t_i}\\right) v_{i}(\\mathbf{t}, \\mathbf{a})\n",
    "$$\n"
   ]
  },
  {
   "cell_type": "markdown",
   "id": "fd6c63bc-f8ac-42f4-a776-577e886963e6",
   "metadata": {},
   "source": [
    "## Quantum formulism all in one picture\n",
    "\n",
    "<img src=\"diagrams/quantum.png\" width=\"800\" height=\"400\">\n"
   ]
  },
  {
   "cell_type": "code",
   "execution_count": null,
   "id": "8db1b379-7233-4fa8-b798-722dc108563a",
   "metadata": {},
   "outputs": [],
   "source": []
  },
  {
   "cell_type": "markdown",
   "id": "1f84f18d-350b-4f77-baa7-4d0f4f797b35",
   "metadata": {},
   "source": [
    "# Was just a thought :P\n",
    "\n",
    "ps: the joint operation $J$ on an initial state is just an example for emphasising our interest on distinct entangled states. yeah, the correlation device can implement any $\\rho_r \\in \\mathcal{D}(\\mathcal{H})$\n",
    "\n",
    "<img src=\"diagrams/quantum_jabir.png\" width=\"800\" height=\"400\">"
   ]
  },
  {
   "cell_type": "code",
   "execution_count": null,
   "id": "305903b4-7bcd-4cb0-89e3-243f3670359d",
   "metadata": {},
   "outputs": [],
   "source": []
  },
  {
   "cell_type": "markdown",
   "id": "c559f8ce-5eca-463c-ab77-023545249be9",
   "metadata": {},
   "source": [
    "# GHZ game"
   ]
  },
  {
   "cell_type": "code",
   "execution_count": 18,
   "id": "1c887831-c9ec-457c-abfa-13d43938a055",
   "metadata": {},
   "outputs": [],
   "source": [
    "from game_circuits import *"
   ]
  },
  {
   "cell_type": "code",
   "execution_count": 19,
   "id": "d5e6d6f0-055d-4854-a12c-2c2615ffa74b",
   "metadata": {},
   "outputs": [],
   "source": [
    "sr, cr = QuantumRegister(3,'s'), ClassicalRegister(3)"
   ]
  },
  {
   "cell_type": "code",
   "execution_count": 20,
   "id": "7f5a6056-ed18-4e65-bfdf-c221fafd619d",
   "metadata": {},
   "outputs": [],
   "source": [
    "# type profile \n",
    "T = list(it.product((0,1),(0,1),(0,1)))\n",
    "\n",
    "## GHZ strategy\n",
    "\n",
    "GHZ = {\n",
    "    1: [(-pi/2,0), (0,0)],\n",
    "    2: [(-pi/2,0), (0,0)],\n",
    "    3: [(-pi/2,0), (0,0)]\n",
    "       }"
   ]
  },
  {
   "cell_type": "code",
   "execution_count": 21,
   "id": "0190f56f-cd3f-4956-94f2-43e01b029ebb",
   "metadata": {},
   "outputs": [
    {
     "name": "stdout",
     "output_type": "stream",
     "text": [
      "(t1, t2, t3) =  (0, 0, 0)\n"
     ]
    },
    {
     "data": {
      "image/png": "[encoded data removed]",
      "text/plain": [
       "<Figure size 432x288 with 1 Axes>"
      ]
     },
     "metadata": {
      "needs_background": "light"
     },
     "output_type": "display_data"
    },
    {
     "name": "stdout",
     "output_type": "stream",
     "text": [
      "(t1, t2, t3) =  (0, 0, 1)\n"
     ]
    },
    {
     "data": {
      "image/png": "[encoded data removed]",
      "text/plain": [
       "<Figure size 432x288 with 1 Axes>"
      ]
     },
     "metadata": {
      "needs_background": "light"
     },
     "output_type": "display_data"
    },
    {
     "name": "stdout",
     "output_type": "stream",
     "text": [
      "(t1, t2, t3) =  (0, 1, 0)\n"
     ]
    },
    {
     "data": {
      "image/png": "[encoded data removed]",
      "text/plain": [
       "<Figure size 432x288 with 1 Axes>"
      ]
     },
     "metadata": {
      "needs_background": "light"
     },
     "output_type": "display_data"
    },
    {
     "name": "stdout",
     "output_type": "stream",
     "text": [
      "(t1, t2, t3) =  (0, 1, 1)\n"
     ]
    },
    {
     "data": {
      "image/png": "[encoded data removed]",
      "text/plain": [
       "<Figure size 432x288 with 1 Axes>"
      ]
     },
     "metadata": {
      "needs_background": "light"
     },
     "output_type": "display_data"
    },
    {
     "name": "stdout",
     "output_type": "stream",
     "text": [
      "(t1, t2, t3) =  (1, 0, 0)\n"
     ]
    },
    {
     "data": {
      "image/png": "[encoded data removed]",
      "text/plain": [
       "<Figure size 432x288 with 1 Axes>"
      ]
     },
     "metadata": {
      "needs_background": "light"
     },
     "output_type": "display_data"
    },
    {
     "name": "stdout",
     "output_type": "stream",
     "text": [
      "(t1, t2, t3) =  (1, 0, 1)\n"
     ]
    },
    {
     "data": {
      "image/png": "[encoded data removed]",
      "text/plain": [
       "<Figure size 432x288 with 1 Axes>"
      ]
     },
     "metadata": {
      "needs_background": "light"
     },
     "output_type": "display_data"
    },
    {
     "name": "stdout",
     "output_type": "stream",
     "text": [
      "(t1, t2, t3) =  (1, 1, 0)\n"
     ]
    },
    {
     "data": {
      "image/png": "[encoded data removed]",
      "text/plain": [
       "<Figure size 432x288 with 1 Axes>"
      ]
     },
     "metadata": {
      "needs_background": "light"
     },
     "output_type": "display_data"
    },
    {
     "name": "stdout",
     "output_type": "stream",
     "text": [
      "(t1, t2, t3) =  (1, 1, 1)\n"
     ]
    },
    {
     "data": {
      "image/png": "[encoded data removed]",
      "text/plain": [
       "<Figure size 432x288 with 1 Axes>"
      ]
     },
     "metadata": {
      "needs_background": "light"
     },
     "output_type": "display_data"
    }
   ],
   "source": [
    "for t in T:\n",
    "    print(\"(t1, t2, t3) = \",t)\n",
    "    qb = QuantumCircuit(sr, cr)\n",
    "\n",
    "    psi3(qb, sr)\n",
    "    for i in GHZ.keys():\n",
    "        M(qb, sr[i-1], cr[i-1], GHZ[i][t[i-1]][0], GHZ[i][t[i-1]][1])\n",
    "    \n",
    "    probds(qb)"
   ]
  },
  {
   "cell_type": "code",
   "execution_count": null,
   "id": "1face199-65cc-4ae8-8293-b0ca2915bba8",
   "metadata": {},
   "outputs": [],
   "source": []
  }
 ],
 "metadata": {
  "kernelspec": {
   "display_name": "Python 3",
   "language": "python",
   "name": "python3"
  },
  "language_info": {
   "codemirror_mode": {
    "name": "ipython",
    "version": 3
   },
   "file_extension": ".py",
   "mimetype": "text/x-python",
   "name": "python",
   "nbconvert_exporter": "python",
   "pygments_lexer": "ipython3",
   "version": "3.9.5"
  }
 },
 "nbformat": 4,
 "nbformat_minor": 5
}
