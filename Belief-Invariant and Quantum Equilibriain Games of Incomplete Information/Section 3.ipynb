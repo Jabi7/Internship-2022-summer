{
 "cells": [
  {
   "cell_type": "markdown",
   "id": "8e9826cf-43d2-4e90-82bd-3458b11c122c",
   "metadata": {},
   "source": [
    "# n-player bayesian games with the Correlation device"
   ]
  },
  {
   "cell_type": "markdown",
   "id": "c2d95b7d-a6eb-4650-9bc0-eb11413c7397",
   "metadata": {},
   "source": [
    "## The game:\n",
    "$$G = (N, T_i, A_i, \\Delta A_i, (Q, R_i, S_i), v_i)$$\n",
    "\n",
    "- $N = [n]$ : set of $n$ players\n",
    "- $T = \\times_{i \\in [n]} T_i$ : finite set of type profiles\n",
    "- $A = \\times_{i \\in [n]} A_i$ : finite set of action profiles\n",
    "- $\\Delta A = \\times_{i \\in [n]} \\Delta A_i$ : profile of set of all probality distribution over action set $A_i$\n",
    "- $P$ : prior pobability distribution over $T$\n",
    "- $R = \\times_{i \\in [n]} R_i$ : set of input profiles of correlation device\n",
    "- $S = \\times_{i \\in [n]} S_i$ : set of suggestion profiles of correlation device\n",
    "- $Q$ : probablity distribution over $S$, given input $r \\in R$\n",
    "- $v_i$ : $T_i \\times A_i \\rightarrow \\mathbb{R}$ : utility funtion for player $i$. "
   ]
  },
  {
   "cell_type": "markdown",
   "id": "ea30a072-dede-422e-8a91-487ed0faa56d",
   "metadata": {},
   "source": [
    "## Strategies for players\n",
    "### In absence of correlation device:\n",
    "#### Pure strategies:\n",
    "In absence of correlation device a pure strategy for a player is a function mapping from Type set to action set. So for a player $i$ a pure strategy is:\n",
    "\n",
    "$$g_i:T_i \\rightarrow A_i$$\n",
    "\n",
    "We can say $g_i \\in A_i^{T_i}$, where $A_i^{T_i}$ is the set of all such maps; which will have $|A_i|^{|T_i|}$ number of functions as elements. Thus a strategy set for a player $i$ is $A_i^{T_i}$. And given the types are drawn from a probablity distribution $P$, the expected utility for a player $i$ for strategy profile $g = (g_i)_{i\\in [n]}$ given the type he recieved is $t_i$ is:\n",
    "\n",
    "$$\\langle v_i(t_i, g) \\rangle = \\sum_{t_{-i} \\in T_{-i}} P(t_{-i}|t_{i}) v_i(t, g(t))$$\n",
    "\n",
    "Where $t = (t_i)_{i \\in [n]} \\in T$ and $g(t) = (g_i(t_i))_{i \\in [n]}$. And with the notation $T_{-i} = \\times_{j\\neq i}^n T_j$:\n",
    "\n",
    "**$$P(t_{-i}|t_{i}) \\implies \\textit{\"probality that the rest of the players type profile is $t_{-i} \\in T_{-i}$ given player $i$'s type is $t_i$\".} $$**\n",
    "\n",
    "The overall utility for player $i$ is:\n",
    "$$\\langle v_i(g) \\rangle = \\sum_{t_{i} \\in T_i} P(t_i) \\langle v_i(t_i, g) \\rangle = \\sum_{t\\in T} P(t) v_i(t, g(t))$$\n",
    "\n",
    "\n",
    "### Mixed strategies:\n",
    "With $\\Delta A_i$ being the set of all probablity distribution over $A_i$, we can define a mixed strategy as:\n",
    "\n",
    "$$g_i^m:T_i \\rightarrow \\Delta A_i$$\n",
    "\n",
    "Since the range of these functions are probability distributions, we can say\n",
    "$$g_i^m(t_i) = (g_i(a_i|t_i))_{a_i \\in A_i}$$\n",
    "\n",
    "where now $g_i(a_i|t_i)$ is the conditional probality of $a_i$ given $t_i$, with $\\sum_{a_i \\in A_i} g_i(a_i|t_i) = 1$.\n",
    "\n",
    "Thus, now the expected utility given $t_i$ will be:\n",
    "\n",
    "$$\\langle v_i(t_i, g) \\rangle = \\sum_{t_{-i} \\in T_{-i}, a \\in A} P(t_{-i}|t_{i}) v_i(t, a) \\prod_{i \\in [n]} g_i(a_i|t_i)$$"
   ]
  },
  {
   "cell_type": "markdown",
   "id": "8ad9a2ff-e789-43c9-bc71-37942610ad2c",
   "metadata": {},
   "source": [
    "### The random value generator $\\Lambda_i$:\n",
    "- spits out a random variable $\\lambda_i \\in \\Lambda_i^s$ with probablity $\\Lambda_i(\\lambda_i)$\n",
    "- The set $\\Lambda_i^s$ can be a finite or a non-finite set\n",
    "- $\\sum_{\\lambda_i \\in \\Lambda_i^s} \\Lambda_i(\\lambda_i) = 1$, or $\\int_{\\lambda_i \\in \\Lambda_i^s} \\Lambda_i(\\lambda_i) d \\lambda_i = 1$ \n",
    "\n",
    "#### Mixing strategies using $\\Lambda_i$:\n",
    "- Players just looks at $\\lambda_i$ a decides on their action.\n",
    "- They can decide distinct actions for distinct $\\lambda_i$ as well as same actions for different $\\lambda_i$.\n",
    "- But not different action for same $\\lambda_i$.\n",
    "- For this reason, always $|A_i| \\leq |\\Lambda_i^s|$\n",
    "\n",
    "Now given the type $t_i$ of the player, the player can emulate any mixed strategy $g_i^m \\in (\\Delta A_i)^{T_i}$ using a suitable $\\Lambda_i$ with suitable decision. So given $t_i$, if player wants to decide $a_i$ on seeing different $\\lambda_i \\in \\Lambda_i^s$, then \n",
    "$$g_i(a_i|t_i) = \\sum_{\\lambda_i}g_i(a_i|t_i,\\lambda_i)\\Lambda_i(\\lambda_i)$$\n",
    "***Understanding I have at this point**: <br>\n",
    "*Always $g_i(a_i|t_i,\\lambda_i) \\in \\{0, 1\\}$? Else why would players want to mix again as they are already explicitly using $\\Lambda_i$ for mixing.* \n",
    "\n",
    "With this scenario of $\\Lambda_i$, we can say $g_i^m$ can be emulated by making $g_i$ to act as a random funtion $g_i(.,\\lambda_i)$, with $Pr\\big\\{(A_i^{T_i})^{\\Lambda_i^s} = g(t_i, \\lambda_i)\\big\\} = \\Lambda_i(\\lambda_i)$."
   ]
  },
  {
   "cell_type": "markdown",
   "id": "58795b2d-693b-476e-8bed-35d5e9980b6d",
   "metadata": {},
   "source": [
    "#### Examples\n",
    "1. $A_i = \\{walk, run\\}$, $T_i = \\{lazy, testy\\}$ <br>\n",
    "\n",
    "    - $\\Lambda_i \\rightarrow$ \"a coin\". \n",
    "        - Decision: \n",
    "            - $(t_i = lazy)$: then if $head \\rightarrow walk$, $tail \\rightarrow walk$ \n",
    "            - $(t_i = testy)$: then if $head \\rightarrow walk$, $tail \\rightarrow run$ \n",
    "        - strategy: \n",
    "            - $g_i(walk|lazy, head) = 1, g_i(walk|lazy, tail) = 1, g_i(run|lazy, head) = 0, g_i(run|lazy, tail) = 0$ \n",
    "            - $g_i(walk|testy, head) = 1, g_i(walk|testy, tail) = 0, g_i(run|testy, head) = 0, g_i(walk|testy, tail) = 1$ <br>  \n",
    "              $\\implies g_i(walk|lazy) = 1, g_i(run|lazy) = 0, g_i(walk|testy) = 1/2, g_i(run|testy) = 1/2$ <br>\n",
    "              \n",
    "    - $\\Lambda_i \\rightarrow$ \"a dice\". \n",
    "        - Decision: \n",
    "            - $(t_i = lazy)$: then if $ \\lambda_i = even \\rightarrow walk$, $\\lambda_i = odd \\rightarrow walk$ \n",
    "            - $(t_i = testy)$: then if $\\lambda_i = even \\rightarrow walk$, $\\lambda_i = odd \\rightarrow run$ \n",
    "        - strategy: \n",
    "            - $g_i(walk|lazy, \\lambda_i = even) = 1, g_i(walk|lazy, \\lambda_i = odd) = 1, g_i(run|lazy, \\lambda_i = even) = 0, g_i(run|lazy, \\lambda_i = odd) = 0$ \n",
    "            - $g_i(walk|testy, \\lambda_i = even) = 1, g_i(walk|testy, \\lambda_i = odd) = 0, g_i(run|testy, \\lambda_i = even) = 0, g_i(walk|testy, \\lambda_i = odd) = 1$ <br>  \n",
    "              $\\implies g_i(walk|lazy) = 1, g_i(run|lazy) = 0, g_i(walk|testy) = 1/2, g_i(run|testy) = 1/2$ <br>"
   ]
  },
  {
   "cell_type": "markdown",
   "id": "869cf78b-bc87-46d9-9b5f-e6526fb733f3",
   "metadata": {},
   "source": [
    "## The Correlation device $Q$:\n",
    "Firstly,\n",
    "###  how is it different from the random value generator $\\Lambda_i$?\n",
    "- The Correlation device $Q$ is not something that the players privately own unlike $\\Lambda_i$, it's sort of a public property.\n",
    "- However, players can only interact with it privately; meaning, no player gets to know other player's business with it.\n",
    "- Unlike the $\\Lambda_i$, the Correlation device $Q$ doesn't just spit out a random variable to a player. It eats private inputs from all the players before doing it.\n",
    "\n",
    "### how it works\n",
    "- Recieves private inputs $r_i \\in R_i$ from each player $i \\in [n]$ and engulfs the input profile $r \\in R$.\n",
    "- Based on $r$ it generates a joint probability distribution $Q(s\\mid r)$ over suggestion profiles $S$, with $$\\sum_{s \\in S} Q(s|r) = 1 \\quad \\forall r \\in R$$\n",
    "- Outputs $s$ based on $Q(s|r)$ and privately sends suggestion $s_i$ to each player $i$.\n",
    "- The only thing a player knows about $Q$ is the joint probability distribution $Q(s\\mid r)$ for all possibe $r \\in R$, but doesn't know the current $r_{-i}$. And obviosly player knows what he sends in and what he recieves.  \n",
    "\n",
    "### Belief-invariant (aka non-signalling) correlations\n",
    "\n",
    "If $\\textit{All}(S \\mid R)$ denotes set of all possible joint condtional probability distribution over $S$ for every given input profiles $R$, there is a subset of correlations $\\textit{BINV}(S \\mid R) \\subset \\textit{All}(S \\mid R)$ for which every joint condtional probability distribution $Q \\in \\textit{BINV}(S\\mid R)$ cannot give any information about other players inputs $r_{-i}$ to each player $i$ using his/her own input $r_i$ and $s_i$ generated by $Q$.\n",
    "\n",
    "\n",
    "Formally, for a set $I \\subset N$, let $R_{I}=X_{i \\in I} R_{i}$ and $S_{I}=X_{i \\in I} S_{i}$, a correlation $Q(s\\mid r)$ is belief invariant for all subsets $I \\subset N$ and $J=N \\backslash I$,\n",
    "$$\n",
    "\\sum_{s_{J} \\in S_{J}} Q\\left(s_{I}, s_{J} \\mid r_{I}, r_{J}\\right)=\\sum_{s_{J} \\in S_{J}} Q\\left(s_{I}, s_{J} \\mid {r}_{I}, {r}_{J}^{\\prime}\\right) \\forall {s}_{I} \\in S_{I}, {r}_{I} \\in R_{I}, {r}_{J}, {r}_{J}^{\\prime} \\in R_{J}\n",
    "$$"
   ]
  },
  {
   "cell_type": "code",
   "execution_count": null,
   "id": "f3aa1e40-70fb-48b0-abb1-2cb2763a2640",
   "metadata": {},
   "outputs": [],
   "source": []
  },
  {
   "cell_type": "markdown",
   "id": "2dd7a3d1-a6ac-497e-81cd-d281bcba1fae",
   "metadata": {},
   "source": [
    "## Communication equilibrium"
   ]
  },
  {
   "cell_type": "markdown",
   "id": "330eda20-74ac-4a63-a416-a6b1c5d5f9fb",
   "metadata": {},
   "source": [
    "### Easy depiction of the entire game\n",
    "<!-- <img src=\"flow diagram/diagram-20220612g.png\" width=\"800\" height=\"400\"> -->\n",
    "<img src=\"flow diagram/diagram-20220612.png\" width=\"800\" height=\"400\">"
   ]
  },
  {
   "cell_type": "markdown",
   "id": "b0a855a7-1082-4a64-9742-4739d3dad856",
   "metadata": {},
   "source": [
    "### Expected utility given $t_i$\n",
    "$$\\langle v_i(t_i, f, g) \\rangle = \\sum_{t_{-i}, s, \\lambda} P(t_{-i} \\mid t_i) \\Lambda(\\lambda) Q\\big(s \\mid f(t,\\lambda)\\big) v_i\\big(t, g(t, s, \\lambda)\\big)$$\n",
    "\n",
    "### communication equilibrium \n",
    "(f, g, Q) is communication equilibrium if $\\forall i \\in [n]$, $\\forall t_i \\in T_i$, and for all random functions $f_i^{\\prime} \\in R_i^{T_i}$ and $g_i^{\\prime} \\in A_i^{T_i \\times S_i}$:\n",
    "\n",
    "$$\\sum_{t_{-i}, s, \\lambda} P(t_{-i} \\mid t_i) \\Lambda(\\lambda) Q\\big(s \\mid f(t,\\lambda)\\big) v_i\\big(t, g(t, s, \\lambda)\\big) \\geq \\sum_{t_{-i}, s, \\lambda} P(t_{-i} \\mid t_i) \\Lambda(\\lambda) Q\\big(s \\mid f_{i}^{\\prime}(t_{i},\\lambda_{i}) f_{-i}(t_{-i},\\lambda_{-i})\\big) v_i\\big(t, g_{i}^{\\prime}(t_{i}, s_i, \\lambda_{i}) g_{-i}(t_{-i}, s_{-i}\\lambda_{-i})\\big)$$"
   ]
  },
  {
   "cell_type": "markdown",
   "id": "f0f82d6e-a77d-41f5-a4a2-eadeffe38386",
   "metadata": {},
   "source": [
    "#### However I'm finding it hard to make sense of above"
   ]
  },
  {
   "cell_type": "code",
   "execution_count": null,
   "id": "6ac58a4b-e409-45c9-9056-688ea9bb1b88",
   "metadata": {},
   "outputs": [],
   "source": []
  },
  {
   "cell_type": "code",
   "execution_count": null,
   "id": "7f121164-0d1e-458b-acff-10b0c23f5728",
   "metadata": {},
   "outputs": [],
   "source": []
  },
  {
   "cell_type": "markdown",
   "id": "b6e44d4e-3eeb-40b5-8d2a-4e1cedfcc190",
   "metadata": {},
   "source": [
    "## what i can currenty make sense of\n",
    "\n",
    "<img src=\"flow diagram/diagram-2.png\" width=\"800\" height=\"400\">"
   ]
  },
  {
   "cell_type": "markdown",
   "id": "6e8be9fe-665a-4ca1-a9ff-d75dab1c94ee",
   "metadata": {},
   "source": [
    "## so for above depiction:\n",
    "### Expected utility given $t_i$\n",
    "$$\\langle v_i(t_i, f, g) \\rangle = \\sum_{t_{-i}, s, \\lambda^f, \\lambda^g} P(t_{-i} \\mid t_i) \\Lambda^f(\\lambda^f) \\Lambda^g(\\lambda^g) Q\\big(s \\mid f(t,\\lambda^f)\\big) v_i\\big(t, g(t, s, \\lambda^g)\\big)$$\n",
    "\n",
    "### communication equilibrium \n",
    "(f, g, Q) is communication equilibrium if $\\forall i \\in [n]$, $\\forall t_i \\in T_i$, and for all random functions $f_i^{\\prime} \\in R_i^{T_i \\times \\Lambda_i^f}$ and $g_i^{\\prime} \\in A_i^{T_i \\times S_i \\times \\Lambda_i^g}$:\n",
    "\n",
    "$$\\sum_{t_{-i}, s, \\lambda^f, \\lambda^g} P(t_{-i} \\mid t_i) \\Lambda^f(\\lambda^f) \\Lambda^g(\\lambda^g) Q\\big(s \\mid f(t,\\lambda)\\big) v_i\\big(t, g(t, s, \\lambda)\\big) \\geq \\sum_{t_{-i}, s, \\lambda^f, \\lambda^g} P(t_{-i} \\mid t_i) \\Lambda^f(\\lambda^f) \\Lambda^g(\\lambda^g) Q\\big(s \\mid f_{i}^{\\prime}(t_{i},\\lambda^f_{i}) f_{-i}(t_{-i},\\lambda^f_{-i})\\big) v_i\\big(t, g_{i}^{\\prime}(t_{i}, s_i, \\lambda_{i}^g) g_{-i}(t_{-i}, s_{-i}\\lambda_{-i}^g)\\big)$$"
   ]
  },
  {
   "cell_type": "code",
   "execution_count": null,
   "id": "11a91ea1-a669-4d6e-bb3d-fc0f3b350c40",
   "metadata": {},
   "outputs": [],
   "source": []
  },
  {
   "cell_type": "code",
   "execution_count": null,
   "id": "5a076e5f-531b-484a-af90-4219fc6e3f11",
   "metadata": {},
   "outputs": [],
   "source": []
  },
  {
   "cell_type": "markdown",
   "id": "87185d53-4234-4e18-b7ed-01c289c6256d",
   "metadata": {},
   "source": [
    "# rough"
   ]
  },
  {
   "cell_type": "code",
   "execution_count": null,
   "id": "5cf8b938-c4fe-46bb-a229-ba15e121df07",
   "metadata": {},
   "outputs": [],
   "source": [
    "T, A = ['lazy', 'testy'], ['walk', 'run'] \n",
    "def d()"
   ]
  }
 ],
 "metadata": {
  "kernelspec": {
   "display_name": "Python 3",
   "language": "python",
   "name": "python3"
  },
  "language_info": {
   "codemirror_mode": {
    "name": "ipython",
    "version": 3
   },
   "file_extension": ".py",
   "mimetype": "text/x-python",
   "name": "python",
   "nbconvert_exporter": "python",
   "pygments_lexer": "ipython3",
   "version": "3.9.5"
  }
 },
 "nbformat": 4,
 "nbformat_minor": 5
}
