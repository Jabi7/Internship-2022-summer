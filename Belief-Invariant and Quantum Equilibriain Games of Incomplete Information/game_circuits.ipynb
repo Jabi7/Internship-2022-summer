{
 "cells": [
  {
   "cell_type": "code",
   "execution_count": 39,
   "id": "ca05b3d9-3309-428a-88c7-24c1fbe1a301",
   "metadata": {},
   "outputs": [],
   "source": [
    "from qiskit import QuantumCircuit, QuantumRegister, ClassicalRegister, execute, assemble, Aer, visualization\n",
    "import matplotlib.pyplot as plt\n",
    "import itertools as it\n",
    "import numpy as np\n",
    "pi = np.pi"
   ]
  },
  {
   "cell_type": "code",
   "execution_count": 47,
   "id": "e0c5880d-1aa8-4468-83c4-1ea6a9eb41e7",
   "metadata": {},
   "outputs": [],
   "source": [
    "simulator = Aer.get_backend('qasm_simulator')\n",
    "shots= 10000\n",
    "sr, cr = QuantumRegister(2,'s'), ClassicalRegister(2)"
   ]
  },
  {
   "cell_type": "code",
   "execution_count": 48,
   "id": "749caf87-1128-4d04-a0e3-8e373bf5acf4",
   "metadata": {},
   "outputs": [],
   "source": [
    "## parameterized initial state for 2-qubit\n",
    "def psi(circuit, qreg_q, y1 = pi/2, z1 = 0, y2 = 0, z2 = 0):\n",
    "    circuit.ry(y1, qreg_q[0])\n",
    "    circuit.ry(y2, qreg_q[1])\n",
    "    circuit.rz(z1, qreg_q[0])\n",
    "    circuit.rz(z2, qreg_q[1])\n",
    "    circuit.cx(qreg_q[0], qreg_q[1])\n",
    "    \n",
    "## parameterized initial state for 3-qubit\n",
    "def psi3(circuit, qreg_q, y1 = pi/2, z1 = pi/2, y2 = pi, z2 = -pi, y3 = pi/2, z3 = pi/2):    \n",
    "    circuit.ry(y1, qreg_q[0])\n",
    "    circuit.ry(y2, qreg_q[1])\n",
    "    circuit.ry(y3 / 2, qreg_q[2])\n",
    "    circuit.rz(z1, qreg_q[2])\n",
    "    circuit.rz(z2, qreg_q[1])\n",
    "    circuit.rz(z3, qreg_q[0])\n",
    "    circuit.cx(qreg_q[0], qreg_q[2])\n",
    "    circuit.cx(qreg_q[2], qreg_q[1])\n",
    "    circuit.cx(qreg_q[0], qreg_q[2])\n",
    "\n",
    "## parameterized measurement strategy    \n",
    "def M(circuit, q, c, y = 0, z = 0):\n",
    "    circuit.ry(y, q)\n",
    "    circuit.rz(z, q)\n",
    "    circuit.measure(q, c)\n",
    "      "
   ]
  },
  {
   "cell_type": "code",
   "execution_count": 88,
   "id": "f9169b81-18e2-4f79-afd4-be7589ea1e0e",
   "metadata": {},
   "outputs": [],
   "source": [
    "# type profile \n",
    "T = list(it.product((0,1),(0,1)))\n",
    "\n",
    "## CHSH strategy\n",
    "s = [(0, np.pi/4), (np.pi/8, -np.pi/8)]\n",
    "chsh = {\n",
    "    1: [(0,0), (-pi/2,0)],\n",
    "    2: [(-pi/4,0), (pi/4,0)]\n",
    "       }"
   ]
  },
  {
   "cell_type": "code",
   "execution_count": null,
   "id": "b114703a-be61-42a0-9ba4-921a1d7939ee",
   "metadata": {},
   "outputs": [],
   "source": []
  },
  {
   "cell_type": "code",
   "execution_count": 89,
   "id": "b818c181-a679-46e2-917f-db472cae75c1",
   "metadata": {},
   "outputs": [
    {
     "name": "stdout",
     "output_type": "stream",
     "text": [
      "(t1, t2) =  (0, 0)\n"
     ]
    },
    {
     "data": {
      "image/png": "[encoded data removed]",
      "text/plain": [
       "<Figure size 432x288 with 1 Axes>"
      ]
     },
     "metadata": {
      "needs_background": "light"
     },
     "output_type": "display_data"
    },
    {
     "name": "stdout",
     "output_type": "stream",
     "text": [
      "(t1, t2) =  (0, 1)\n"
     ]
    },
    {
     "data": {
      "image/png": "[encoded data removed]",
      "text/plain": [
       "<Figure size 432x288 with 1 Axes>"
      ]
     },
     "metadata": {
      "needs_background": "light"
     },
     "output_type": "display_data"
    },
    {
     "name": "stdout",
     "output_type": "stream",
     "text": [
      "(t1, t2) =  (1, 0)\n"
     ]
    },
    {
     "data": {
      "image/png": "[encoded data removed]",
      "text/plain": [
       "<Figure size 432x288 with 1 Axes>"
      ]
     },
     "metadata": {
      "needs_background": "light"
     },
     "output_type": "display_data"
    },
    {
     "name": "stdout",
     "output_type": "stream",
     "text": [
      "(t1, t2) =  (1, 1)\n"
     ]
    },
    {
     "data": {
      "image/png": "[encoded data removed]",
      "text/plain": [
       "<Figure size 432x288 with 1 Axes>"
      ]
     },
     "metadata": {
      "needs_background": "light"
     },
     "output_type": "display_data"
    },
    {
     "name": "stdout",
     "output_type": "stream",
     "text": [
      "Winnin probability =  0.853675\n"
     ]
    }
   ],
   "source": [
    "e = 0\n",
    "for t1, t2 in T:\n",
    "    print(\"(t1, t2) = \",(t1, t2))\n",
    "    qb = QuantumCircuit(sr, cr)\n",
    "\n",
    "    psi(qb, sr, y1 = pi/2, z1 = 0, y2 = 0, z2 = 0)\n",
    "    y1, z1 = chsh[1][t1]\n",
    "    y2, z2 = chsh[2][t2]\n",
    "    \n",
    "    M(qb, sr[0], cr[0], y1, z1)\n",
    "    M(qb, sr[1], cr[1], y2, z2)\n",
    "    \n",
    "    job = execute(qb, simulator, shots=shots)\n",
    "    result = job.result()\n",
    "    counts = result.get_counts(qb)\n",
    "    c = dict(sorted(counts.items()))\n",
    "    p = [i/shots for i in list(c.values())]\n",
    "    plt.bar(list(c.keys()), p, color='g')\n",
    "    plt.show()\n",
    "    q = p + [0]*(4-len(p))\n",
    "    e += 1/4*(q[0]+q[3] if t1&t2 == 0 else q[1] + q[2])\n",
    "print('Winnin probability = ', e)"
   ]
  },
  {
   "cell_type": "code",
   "execution_count": 51,
   "id": "2000eb92-56ee-45fd-94e8-7bb1e53b3a28",
   "metadata": {},
   "outputs": [
    {
     "data": {
      "text/plain": [
       "{'11': 744, '01': 4232, '00': 756, '10': 4268}"
      ]
     },
     "execution_count": 51,
     "metadata": {},
     "output_type": "execute_result"
    }
   ],
   "source": [
    "counts"
   ]
  },
  {
   "cell_type": "code",
   "execution_count": 86,
   "id": "cf6d8a4a-0346-4ebe-a551-ab4d560800a8",
   "metadata": {},
   "outputs": [
    {
     "data": {
      "text/plain": [
       "0.8535533905932737"
      ]
     },
     "execution_count": 86,
     "metadata": {},
     "output_type": "execute_result"
    }
   ],
   "source": [
    "np.cos(pi/8)**2"
   ]
  },
  {
   "cell_type": "code",
   "execution_count": 84,
   "id": "f52392cc-bd6a-45de-aed2-4abb80a90007",
   "metadata": {},
   "outputs": [
    {
     "data": {
      "text/plain": [
       "[0, 2]"
      ]
     },
     "execution_count": 84,
     "metadata": {},
     "output_type": "execute_result"
    }
   ],
   "source": [
    "[0,2] + [0]*0"
   ]
  },
  {
   "cell_type": "code",
   "execution_count": 30,
   "id": "d7ae2bf5-2b0d-411d-9589-2d00729e5d36",
   "metadata": {},
   "outputs": [
    {
     "data": {
      "image/png": "[encoded data removed]",
      "text/plain": [
       "<Figure size 504x360 with 1 Axes>"
      ]
     },
     "execution_count": 30,
     "metadata": {},
     "output_type": "execute_result"
    }
   ],
   "source": [
    "    psi(qb, sr)\n",
    "    y1, z1 = chsh[1][1]\n",
    "    y2, z2 = chsh[2][0]\n",
    "    \n",
    "    M(qb, sr[0], cr[0], y1, z1)\n",
    "    M(qb, sr[1], cr[1], y2, z2)\n",
    "    qb.draw()\n",
    "    job = execute(qb, simulator, shots=shots)\n",
    "    result = job.result()\n",
    "    counts = result.get_counts(qb)\n",
    "    visualization.plot_histogram(counts)"
   ]
  },
  {
   "cell_type": "code",
   "execution_count": null,
   "id": "8392b00c-277a-4cdd-b3b0-5ea86fd5536d",
   "metadata": {},
   "outputs": [],
   "source": []
  },
  {
   "cell_type": "code",
   "execution_count": 115,
   "id": "07636aee-24c2-455c-957f-2fa892294811",
   "metadata": {},
   "outputs": [],
   "source": [
    "class player:\n",
    "    def __init__(self, label, types = [0,1], actions = [0,1]):\n",
    "        self.i = label\n",
    "        self.Ti = types\n",
    "        self.Ai = actions\n",
    "    \n",
    "    \n",
    "class QB:\n",
    "    def __init__(self, n=2):\n",
    "        self.n = n\n",
    "    \n",
    "    ## player set\n",
    "    N = range(2)\n",
    "    \n",
    "    ## player class array\n",
    "    p = [player(i) for i in N]\n",
    "    \n",
    "    ## Ask user to input player features\n",
    "    def ask():\n",
    "        for i in N:\n",
    "            print('______About player ' + str(i) + '______')\n",
    "            p[i].Ti = input('Types for player '+str(i)+ ' (array):')\n",
    "            p[i].Ai = input('Actions for player '+str(i)+ ' (array):')\n",
    "            \n",
    "    "
   ]
  },
  {
   "cell_type": "code",
   "execution_count": 117,
   "id": "3dda807f-aecb-4fb4-9bbf-98a92b5c5e03",
   "metadata": {},
   "outputs": [
    {
     "ename": "TypeError",
     "evalue": "ask() takes 0 positional arguments but 1 was given",
     "output_type": "error",
     "traceback": [
      "\u001b[0;31m---------------------------------------------------------------------------\u001b[0m",
      "\u001b[0;31mTypeError\u001b[0m                                 Traceback (most recent call last)",
      "Input \u001b[0;32mIn [117]\u001b[0m, in \u001b[0;36m<cell line: 2>\u001b[0;34m()\u001b[0m\n\u001b[1;32m      1\u001b[0m g \u001b[38;5;241m=\u001b[39m QB()\n\u001b[0;32m----> 2\u001b[0m g\u001b[38;5;241m.\u001b[39mask()\n",
      "\u001b[0;31mTypeError\u001b[0m: ask() takes 0 positional arguments but 1 was given"
     ]
    }
   ],
   "source": [
    "g = QB()\n",
    "g.ask()"
   ]
  },
  {
   "cell_type": "code",
   "execution_count": 99,
   "id": "f9847d70-b48e-4cc3-87b9-50a507af7932",
   "metadata": {},
   "outputs": [
    {
     "data": {
      "text/plain": [
       "[0, 1]"
      ]
     },
     "execution_count": 99,
     "metadata": {},
     "output_type": "execute_result"
    }
   ],
   "source": [
    "p = player()\n",
    "p.Ti"
   ]
  },
  {
   "cell_type": "code",
   "execution_count": 97,
   "id": "60f03e02-750d-4f69-8d5c-31e5161f62ae",
   "metadata": {},
   "outputs": [],
   "source": [
    "def pr(rho, M):\n",
    "    return np.trace(np.dot(rho, M))    "
   ]
  },
  {
   "cell_type": "code",
   "execution_count": null,
   "id": "db194121-200c-48ba-ba06-43049fdbc03e",
   "metadata": {},
   "outputs": [],
   "source": [
    "rho"
   ]
  },
  {
   "cell_type": "code",
   "execution_count": 109,
   "id": "7736f19c-594e-44bb-bd2f-e9224a7cc508",
   "metadata": {},
   "outputs": [
    {
     "data": {
      "text/plain": [
       "2"
      ]
     },
     "execution_count": 109,
     "metadata": {},
     "output_type": "execute_result"
    }
   ],
   "source": [
    "g = QB(2)\n",
    "g.N"
   ]
  },
  {
   "cell_type": "code",
   "execution_count": null,
   "id": "63a203b1-6adf-42c4-afff-a8bbe22de3c3",
   "metadata": {},
   "outputs": [],
   "source": []
  },
  {
   "cell_type": "code",
   "execution_count": 120,
   "id": "b9488b2f-d900-4ade-9830-33eb21e11889",
   "metadata": {},
   "outputs": [
    {
     "name": "stdin",
     "output_type": "stream",
     "text": [
      "name 2\n"
     ]
    }
   ],
   "source": [
    "def i():\n",
    " i = input('name')\n",
    "i()"
   ]
  },
  {
   "cell_type": "code",
   "execution_count": 122,
   "id": "57fba765-27cb-44ab-9615-461eebf7e9fa",
   "metadata": {},
   "outputs": [],
   "source": [
    "N = range(2)\n",
    "    \n",
    "    ## player class array\n",
    "p = [player(i) for i in N]"
   ]
  },
  {
   "cell_type": "code",
   "execution_count": 134,
   "id": "9f73431d-d0f3-4a44-9b57-c0d697d18f78",
   "metadata": {},
   "outputs": [
    {
     "name": "stdout",
     "output_type": "stream",
     "text": [
      "\n",
      " ______About player 0______\n"
     ]
    },
    {
     "name": "stdin",
     "output_type": "stream",
     "text": [
      "number of Types for player 0: 3\n",
      "number of Actions for player 0: 4\n"
     ]
    },
    {
     "name": "stdout",
     "output_type": "stream",
     "text": [
      "\n",
      " ______About player 1______\n"
     ]
    },
    {
     "name": "stdin",
     "output_type": "stream",
     "text": [
      "number of Types for player 1: 5\n",
      "number of Actions for player 1: 3\n"
     ]
    }
   ],
   "source": [
    "for i in N:\n",
    "    \n",
    "    print('\\n ______About player ' + str(i) + '______')\n",
    "    p[i].Ti = list(range(int(input('number of Types for player '+str(i)+ ':'))))\n",
    "    p[i].Ai = list(range(int(input('number of Actions for player '+str(i)+ ':'))))"
   ]
  },
  {
   "cell_type": "code",
   "execution_count": 135,
   "id": "57fd9d94-2fc1-4bde-88b4-cf8889d03982",
   "metadata": {},
   "outputs": [
    {
     "data": {
      "text/plain": [
       "[0, 1, 2, 3, 4]"
      ]
     },
     "execution_count": 135,
     "metadata": {},
     "output_type": "execute_result"
    }
   ],
   "source": [
    "list(p[1].Ti)"
   ]
  },
  {
   "cell_type": "code",
   "execution_count": 129,
   "id": "1bc68a53-e2ce-436a-870f-aba9795446f8",
   "metadata": {},
   "outputs": [
    {
     "ename": "TypeError",
     "evalue": "int() argument must be a string, a bytes-like object or a number, not 'list'",
     "output_type": "error",
     "traceback": [
      "\u001b[0;31m---------------------------------------------------------------------------\u001b[0m",
      "\u001b[0;31mTypeError\u001b[0m                                 Traceback (most recent call last)",
      "Input \u001b[0;32mIn [129]\u001b[0m, in \u001b[0;36m<cell line: 1>\u001b[0;34m()\u001b[0m\n\u001b[0;32m----> 1\u001b[0m \u001b[38;5;28mint\u001b[39m(\u001b[38;5;28mlist\u001b[39m(\u001b[38;5;124m'\u001b[39m\u001b[38;5;124m01\u001b[39m\u001b[38;5;124m'\u001b[39m))\n",
      "\u001b[0;31mTypeError\u001b[0m: int() argument must be a string, a bytes-like object or a number, not 'list'"
     ]
    }
   ],
   "source": [
    "list('01')"
   ]
  },
  {
   "cell_type": "code",
   "execution_count": 128,
   "id": "5596fee0-68b5-42b9-ad47-8d599740b59c",
   "metadata": {},
   "outputs": [
    {
     "data": {
      "text/plain": [
       "1"
      ]
     },
     "execution_count": 128,
     "metadata": {},
     "output_type": "execute_result"
    }
   ],
   "source": [
    "int('1')"
   ]
  },
  {
   "cell_type": "code",
   "execution_count": null,
   "id": "0e8ea9bd-56eb-4e82-84d8-e7012180b5e4",
   "metadata": {},
   "outputs": [],
   "source": []
  }
 ],
 "metadata": {
  "kernelspec": {
   "display_name": "Python 3",
   "language": "python",
   "name": "python3"
  },
  "language_info": {
   "codemirror_mode": {
    "name": "ipython",
    "version": 3
   },
   "file_extension": ".py",
   "mimetype": "text/x-python",
   "name": "python",
   "nbconvert_exporter": "python",
   "pygments_lexer": "ipython3",
   "version": "3.9.5"
  }
 },
 "nbformat": 4,
 "nbformat_minor": 5
}
