{
 "cells": [
  {
   "cell_type": "markdown",
   "id": "8103a7f9-4ce9-4321-849c-b759f46ee419",
   "metadata": {},
   "source": [
    "# **Visualising all sorts of correlations with tensor notation**\n",
    "                                                                                                                       Author: Muhammed Jabir Thayyil"
   ]
  },
  {
   "cell_type": "markdown",
   "id": "9031e729-90a8-4a46-b8b0-a3974dec321c",
   "metadata": {},
   "source": [
    "<img src=\"Mms/Qdoge.jpg\" width=\"450\" height=\"300\">"
   ]
  },
  {
   "cell_type": "markdown",
   "id": "09cf71df-5aad-43c8-9d05-55040fc50b0b",
   "metadata": {},
   "source": [
    "### index and label notations\n",
    "- $r_1 r_2$ : two indices with $r_1 \\in R_1$ and $r_2 \\in R_2$\n",
    "- $r_1, r_2$ : not two indices! but one index with $r_1, r_2 \\in R_1 \\times R_2$  \n",
    "- $(r_1)$ and ($r_1, r_2$): are **labels**, and not **indeces** "
   ]
  },
  {
   "cell_type": "markdown",
   "id": "842e321c-2a1c-4c46-a557-72b80fcaa359",
   "metadata": {},
   "source": [
    "## Notation trasformation\n",
    "conditional probablity to stochastic tensor:\n",
    "$$Q(s \\mid r) \\longrightarrow Q^r_s$$\n",
    "\n",
    "where $r \\in \\times_i R_i$ and $s \\in \\times_i S_i$.\n",
    "\n",
    "- $Q^r_s$ is a stochastic matrix with $\\sum_s Q^r_s = 1$\n",
    "- So we have the probability vector with tensor notations:\n",
    "   $$p_s = Q^r_s P_r$$\n",
    "\n",
    "- Wanna look at a random value generator $\\Gamma_{\\gamma}$? Ok then\n",
    "<!--     $$\\begin{aligned}Q^r_s &= Q^{r \\gamma}_s \\Gamma_{\\gamma} \\\\ \n",
    "    \\text{so,    } p_s &= Q^{r \\gamma}_s \\Gamma_{\\gamma} P_r \\end{aligned}$$ -->\n",
    "    $$Q^r_s = Q^{r \\gamma}_s \\Gamma_{\\gamma}$$\n",
    "    So,\n",
    "    $$p_s = Q^{r \\gamma}_s \\Gamma_{\\gamma} P_r$$\n",
    "    \n",
    "- Wanna look at another \"correlation device\" $C_{o}^i$? then\n",
    "    $$Q^r_s = Q^{r o}_{s i} C^i_o$$\n",
    "    \n",
    "- Look at both?\n",
    "    $$Q^r_s = Q^{r \\gamma o}_{s i} \\Gamma_{\\gamma} C^i_o$$\n",
    "    \n",
    "So, you can look at any number of random value generators or correlation devices. But, you gotta produce a ${n_i \\choose n_o}$-order stochastic tensor $Q$ and thats your responsibity!.\n",
    "\n",
    "### *From here on its personal with me and myself*\n",
    "\n",
    "- Now you might be wondering, what the heck is $\\Gamma^{\\gamma}$?. Well, thats some sort of a black hole kind of device that eats your input and spits out nothing! \n",
    "    - How can you make use of it? Well, if you got unwanted outputs by mistake while producing your correlation tensor, then you can use $\\Gamma^{\\gamma}$ to eat up all those unwanted inputs.\n",
    "        - Simple example is you can get back your correlation device from the one that produces unwanted outputs like so,\n",
    "            $$Q^{r}_{s} = Q^{r}_{s u} \\Gamma^{u}$$\n",
    "        - If you keep using it, it will transform a correlation device to itself\n",
    "            $$ Q^{r}_s \\Gamma^{s} = Q^r$$\n",
    "    - You, can name such device \"black hole device\" if you wish, given you dont think thats lame.\n",
    "\n",
    "- With this name you might ask then whats a 'wormhole device'? Well, thats analogoes to a correlation device, only that it takes input from one locality and spits out the output to another locality lightyears away! and we denote it as:\n",
    "    $$\" \\operatorname{_sQ^r} \"$$\n",
    "\n",
    "    - A wormhole device that takes inputs from another locality light years away and spits out the output to your locality, i denote it as\n",
    "            $$\" \\operatorname{^rQ_s} \"$$\n",
    "            \n",
    "- Now suppose we have two players, and input from player 1 in locality 1 reaches locality 2 of player 2 then with respect to player 2,\n",
    "\n",
    "    $$\\operatorname{^{r_1}Q_{s_2,s_1}^{r_2}}$$\n",
    "    \n",
    "    - And w.r.t player 1, he's dealing with a blackhole device $\\operatorname{Q^{r_1}}$ if he got no idea why his input was taken. But if he's sure his input has caused some output somewhere else the notation is:\n",
    "    $$\\operatorname{_{s_1}Q^{r_1}}$$\n",
    "    \n"
   ]
  },
  {
   "cell_type": "markdown",
   "id": "94b7cb14-fd18-48a9-8161-333a60fe0d25",
   "metadata": {},
   "source": [
    "#### ~ The thought i have just after i wrote whats above (*do not edit this cell ever*) ~\n",
    "\n",
    "*\"My childhood quest to prove einstein right(and wrong) has actually begun!\"* \n",
    "\n",
    "  **\"Correlations are relative!\"** \n",
    "\n",
    "                                                           - 30/06/2022 ~15:00 "
   ]
  },
  {
   "cell_type": "markdown",
   "id": "e7d3473d-9511-4cfa-8788-1446fdd1bea6",
   "metadata": {},
   "source": [
    "## continutions (stuff is on work)\n",
    "And, now with the birth of the idea of balckhole and wormhole devices and their notations you can devolop the notation describe all sorts of phenomena:\n",
    "\n",
    "- Player $i$ can tranform the correlation device w.r.t to him to a wormhole device using a blackhole device: $\\operatorname{Q^r_s} \\rightarrow \\operatorname{{s_i}_Q^r_{-s_i}} = \\operatorname{Q^r_s} \\Gamma^{s}$    "
   ]
  },
  {
   "cell_type": "markdown",
   "id": "b15d4f0e-7e5e-45b6-9f23-f4aabb048bc0",
   "metadata": {},
   "source": [
    "## Example\n",
    "\n",
    "$Q^r_s = $\n",
    "|**s \\ r**|00|01|10|11|\n",
    "|---|--|--|--|--|\n",
    "|**00** |1/2|3/4|1/4|0|\n",
    "|**01** |1/4|0|1/2|2/5|\n",
    "|**10** |0|1/4|0|3/5|\n",
    "|**11** |1/4|0|1/4|0|\n"
   ]
  },
  {
   "cell_type": "markdown",
   "id": "8398a998-aa48-4f1a-b1e1-f172641d8de1",
   "metadata": {},
   "source": [
    "## Reduction of $Q^r_s$:\n",
    "\n",
    "We can reduce the correlation matrix to a group of players $I \\subset [n]$ by summing over possibilities due to rest of the players $ J = [n]\\backslash I$ as follows:\n",
    "\n",
    "$$Q^{r_I(r_J)}_{s_I} = \\sum_{s_J}Q^{r_I,r_J}_{s_I,s_J}$$\n",
    "\n",
    "### Example\n",
    "consider the above correlation matrix, then we have for player 1:\n",
    "\n",
    "$Q^{r_1(0)}_{s_1} = $\n",
    "|**s1\\r1**|0|1|\n",
    "|---|--|--|\n",
    "|**0** |3/4|3/4|\n",
    "|**1** |1/4|1/4|\n",
    "\n",
    "$Q^{r_1(1)}_{s_1} = $\n",
    "|**s1\\r1**|0|1|\n",
    "|---|--|--|\n",
    "|**0** |3/4|2/5|\n",
    "|**1** |1/4|3/5|\n",
    "\n",
    "For player 2: <br>\n",
    "$Q^{r_2(0)}_{s_2} = $\n",
    "|**s2\\r2**|0|1|\n",
    "|---|--|--|\n",
    "|**0** |1/2|1|\n",
    "|**1** |1/2|0|\n",
    "\n",
    "$Q^{r_2(1)}_{s_2} = $\n",
    "|**s2\\r2**|0|1|\n",
    "|---|--|--|\n",
    "|**0** |1/4|3/5|\n",
    "|**1** |3/4|2/5|\n",
    "\n",
    "### Meaning\n",
    "\n",
    "$Q^{r_I(r_J)}_{s_I}$ is some thing that a player or a group of players $I$ can locally produce by observing their outputs multiple times while $r_J$ is fixed. "
   ]
  },
  {
   "cell_type": "markdown",
   "id": "e7253d3e-9120-4088-b8b3-796ad4b76c8d",
   "metadata": {},
   "source": [
    "## Types of conditional correlations as types of the matrix:\n",
    "\n",
    "<!-- - belief invariant: $\\sum_{s}Q^{r_I,r_J}_{s_I,s_J} = \\sum_{s}Q^{r_I,r_J}_{s_I,s_J}$ -->\n",
    "### 1. belief invariant\n",
    "\n",
    "*If the reduced correlation matrices are equal for every possibe group of players, then the $Q^r_s$ is belief invariant.* \n",
    "\n",
    "That is for all set $I \\subset [n]$:\n",
    "\n",
    "$$Q^{r_I(r_J)}_{s_I} = Q^{r_I(r_J^{\\prime})}_{s_I} \\quad \\forall r_J, r_J^{\\prime} \\in  R_J$$ \n",
    "\n"
   ]
  },
  {
   "cell_type": "markdown",
   "id": "5e759557-ee23-42c8-8e6d-c1e7881bdcbf",
   "metadata": {},
   "source": [
    "### Examples\n",
    "1. \n",
    "$$ Q_s^r = \\begin{bmatrix}\n",
    "1/2 & 1/8 & 1/4 & 3/8\\\\\n",
    "0 & 3/8 & 1/8 & 0\\\\\n",
    "0 & 1/4 & 1/4 & 0\\\\\n",
    "1/2 & 1/4 & 3/8 & 5/8\n",
    "\\end{bmatrix}$$"
   ]
  },
  {
   "cell_type": "markdown",
   "id": "add7776e-5b40-45a4-af1c-684febcf8894",
   "metadata": {},
   "source": [
    "$Q^{r_1(0)}_{s_1} = \\begin{bmatrix}\n",
    "1/2 & 1/8\\\\\n",
    "1/2 & 5/8\\\\\n",
    "\\end{bmatrix}, \\quad Q^{r_1(1)}_{s_1} = \\begin{bmatrix}\n",
    "1/2 & 1/8\\\\\n",
    "1/2 & 5/8\\\\\n",
    "\\end{bmatrix}, \\quad Q^{r_2(0)}_{s_2} = \\begin{bmatrix}\n",
    "1/2 & 1/8\\\\\n",
    "1/2 & 5/8\\\\\n",
    "\\end{bmatrix}, \\quad Q^{r_2(1)}_{s_2} = \\begin{bmatrix}\n",
    "1/2 & 1/8\\\\\n",
    "1/2 & 5/8\\\\\n",
    "\\end{bmatrix}$"
   ]
  },
  {
   "cell_type": "markdown",
   "id": "602ae417-077e-4432-addf-bad69e999a69",
   "metadata": {},
   "source": [
    "\n",
    "2. B.I correlation that wins the CHSHS game with probabilty 1:\n",
    "$$ Q_s^r = \\begin{bmatrix}\n",
    "1/2 & 1/2 & 1/2 & 0\\\\\n",
    "0 & 0 & 0 & 1/2\\\\\n",
    "0 & 0 & 0 & 1/2\\\\\n",
    "1/2 & 1/2 & 1/2 & 0\n",
    "\\end{bmatrix}$$"
   ]
  },
  {
   "cell_type": "markdown",
   "id": "55a837d9-dcb4-4315-bebd-8bbeeaa32d34",
   "metadata": {},
   "source": [
    "$Q^{r_1(0)}_{s_1} = \\begin{bmatrix}\n",
    "1/2 & 1/2\\\\\n",
    "1/2 & 1/2\\\\\n",
    "\\end{bmatrix}, \\quad Q^{r_1(1)}_{s_1} = \\begin{bmatrix}\n",
    "1/2 & 1/2\\\\\n",
    "1/2 & 1/2\\\\\n",
    "\\end{bmatrix}, \\quad Q^{r_2(0)}_{s_2} = \\begin{bmatrix}\n",
    "1/2 & 1/2\\\\\n",
    "1/2 & 1/2\\\\\n",
    "\\end{bmatrix}, \\quad Q^{r_2(1)}_{s_2} = \\begin{bmatrix}\n",
    "1/2 & 1/2\\\\\n",
    "1/2 & 1/2\\\\\n",
    "\\end{bmatrix}$"
   ]
  },
  {
   "cell_type": "markdown",
   "id": "6d525c97-4ae3-4d93-b21c-2d0941f6b9a2",
   "metadata": {},
   "source": [
    "### 2. Local\n",
    "\n",
    "The correlation matrix $Q^r_s$ is a \"local correlation matrix\" if: $$Q^r_s = \\bigotimes_i Q^{r_i}_{s_i}$$\n",
    "\n",
    "where $Q^{r_i}_{s_i}$ are the reduced correlation matrix of player $i$. And obviosly, literally \"obviosly\"  $Q^{r_i(-r_i)}_{s_i} = Q^{r_i(-r_i^{\\prime})}_{s_i} \\quad \\forall -r_i,-r_i^{\\prime}$. Thus, local correlation matrix is trivially belief invariant. \n"
   ]
  },
  {
   "cell_type": "markdown",
   "id": "8f5596a0-31ca-4cc2-9a3d-ae1766d7f4bf",
   "metadata": {},
   "source": [
    "#### the one given in the paper\n",
    "$$Q^r_s = \\bigotimes_i Q^{r_i \\gamma_i}_{s_i}\\Gamma_{\\gamma}$$\n",
    "\n",
    "Where $\\Gamma_{\\gamma}$ is a probablity vector. yeah, a random value genarator. However, it need **not** be the case that $\\Gamma_{\\gamma}$ is local, i.e, $\\Gamma_{\\gamma} = \\otimes_i \\Gamma_{\\gamma_i}$. With this you can define the fact that:\n",
    "*\"If any nonlocal correlation device feeds it output to local correlation device as input and vice versa, then correlation of the final output with respect to the initial input becomes local\"*\n",
    "\n",
    "So if $C_v^u$ is nonlocal and $Q^r_s$ is local, then $Q^r_s C^s_v$ and $C^u_v Q^v_s$ is local.\n",
    "\n",
    "##### Disturbing fact\n",
    "*Notice the two examples given for belief invariant are nonlocal and the reduced matrix for different players are equal. Is the case true in general? while reduced matrix of local correlation matrix can obviosly be different for different players.*"
   ]
  },
  {
   "cell_type": "markdown",
   "id": "c5505889-3270-458e-9abb-bd6e5c38fe2f",
   "metadata": {},
   "source": [
    "### 3. Aumman's\n",
    "\n",
    "$Q^r_t$ is Aumman's correlated matrix if all columns of the matrix are the same. That is, $$Q^{(r)}_s = Q^{(r^{\\prime})}_s \\quad \\forall r, r^{\\prime}$$\n",
    "\n",
    "It acts like a constant function. For games of complete information its just a probablity vector, or a random value generator $Q_s$.\n",
    "\n",
    "**NOTICE:** In the previous section for local correlation matrix, in a setup where player $i$ look at the output $\\gamma_i$ from a \"shared\" random value generator $\\Gamma_{\\gamma}$ and uses the \"local\" device $Q^{r_i \\gamma_i}_{s_i}$, the shared random value generator $\\Gamma_{\\gamma}$  act as an Aumman's correlated probablity vector. "
   ]
  },
  {
   "cell_type": "markdown",
   "id": "11bc333a-d7c8-419f-a04a-73831c1c8862",
   "metadata": {},
   "source": [
    "### 4. Quantum\n",
    "\n",
    "The correlation matrix $Q^r_s$ is a \"quantum correlated matrix\" if the output is due to meausurement of a quantum state $\\rho \\in \\mathcal{D}(\\otimes_i \\mathcal{H}_i)$ by a given POVM $M^{(r)}_{(s)} = \\otimes_i M^{(r_i)}_{(s_i)}$. That is, \n",
    "\n",
    "$$Q^r_s = \\operatorname{Tr} \\rho M^{(r)}_{(s)}$$ \n",
    "\n",
    "- Trivially belief invariant due to completeness property of POVM, just analogous to how probalities of other players sums to 1 while taking reduced matrix of local correlation matrix.\n",
    "- Conceptual reasoning players operations are all local:\n",
    "    - non-signalling principle\n",
    "    - non-cloning thearom\n",
    "    \n",
    "\n",
    "#### reduced matrix\n",
    "\n",
    "$\\begin{aligned}\n",
    "Q^{r_I(r_J)}_{s_I} = \\sum_{s_J}Q^{r_I,r_J}_{s_I,s_J} \\\\\n",
    "&=\\operatorname{Tr} \\rho\\left(\\bigotimes_{i \\in I} M_{(s_{i})}^{(r_{i})} \\otimes \\bigotimes_{j \\in J} \\mathbb{1}\\right) \\\\\n",
    "&=\\sum_{s_{J}} \\operatorname{Tr} \\rho\\left(\\bigotimes_{i \\in I} M_{(s_{i})}^{(r_{i})} \\otimes \\bigotimes_{j \\in J} M_{(s_{j})}^{(r_{j}^{\\prime})}\\right) \\\\\n",
    "&=Q^{r_I(r_J^{\\prime})}_{s_I}\n",
    "\\end{aligned}$\n",
    "\n",
    "so belief invariant."
   ]
  },
  {
   "cell_type": "markdown",
   "id": "a202d658-0342-4351-bdeb-6f5d5b6063cc",
   "metadata": {},
   "source": []
  },
  {
   "cell_type": "markdown",
   "id": "657397e4-3d52-4621-a34f-4476256d3e31",
   "metadata": {},
   "source": [
    "#### New notations and meanings\n",
    "work under progress..."
   ]
  },
  {
   "cell_type": "code",
   "execution_count": null,
   "id": "68384293-d68a-4ce0-8ad4-9a259bec865b",
   "metadata": {},
   "outputs": [],
   "source": []
  },
  {
   "cell_type": "markdown",
   "id": "7ed2df86-591f-495c-bb28-5a1de38c3b30",
   "metadata": {},
   "source": [
    "### 5. Quantum belief invaraint\n",
    "Work under progress...\n",
    "\n",
    "- No. don't get me wrong by the previous fact that quantum correlation matrix is \"already\" belief invariant. Thats in the context of measurement with POVM as input strategy. Thats a local procedure even though it produces nonlocal correaltion matrix depending upon entanglement of the state.\n",
    "- Here the context is different!\n",
    "    - **Claim:** *Correlation matrix $Q^{r(u)}_s$ that are \"quantum belief invariant\" need **not** be \"belief invariant\"!*\n",
    "    \n",
    "    \n",
    "#### current definition in mind\n",
    "\n",
    "Suppose the quantum correlation device recieves input from all players from their local vicinity and produces a state $\\rho_r \\in \\mathcal{D}(\\otimes_i \\mathcal{H}_i)$, then the quantum correlation \"device\" is \"quantum belief invariant\" if player $i$ cannot distinguish the states $\\rho_{r_i -r_i}$ and $\\rho_{r_i -r_i^{\\prime}} \\quad \\forall -r_i ,-r_i^{\\prime}$ by observing the outcomes by any possible \"local measurements\".    \n",
    "\n",
    "- $Q^{r(u)}_s$ correlation matrix due to measuremet on state $\\rho_r$ by a joint POVM labled by $u^i$ as $M^{(u)} = \\otimes_i M^{(u_i)}$ \n",
    "- In the \"previous model\", the sate $\\rho$ and the POVM is analogous to the random value generator $\\Gamma_{\\gamma}$ and the local device $Q^{r_i \\gamma_i}_{s_i}$ in the local correlation setup. \n",
    "    - as already before, $\\Gamma_{\\gamma}$ act as an aummans correlated probability vector. Thus $\\rho$ acts analogous to Aumman's.\n",
    "- In the \"present model\" the sate $\\rho_r$ and the POVM is analogous to the general correlation device $Q^r_s$ and the $f$ and $g$ in the paper.\n",
    "    - By the way, according to this article of \"my rules\", where things are all \"stochastic tensors\" the fuctions $f_i$ and $g_i$ is a \"local device\" $\\operatorname{FG}^{t_i s_i}_{r_i a_i}$ so that $$Q^t_a = \\otimes_i \\operatorname{FG}^{t_i s_i}_{r_i a_i} Q^{r}_s$$\n",
    "    \n",
    "    - oh, still want that $\\Lambda$? ok then, here you go $$Q^t_a = \\otimes_i \\operatorname{F}^{t_i \\lambda_i}_{r_i} \\operatorname{F}^{s_i \\lambda_i}_{a_i} \\Lambda_{\\lambda_i \\lambda_i} Q^{r}_s $$\n",
    "    \n",
    "### How can we arrive at the definition:\n",
    "\n",
    "With correlation matrix $$Q^{r(u)}_s = \\operatorname{Tr} \\rho_r M^{(u)}_{(s)}$$\n",
    "\n",
    "the reduced matrix becomes,\n",
    "$$Q^{r_I(r_J)(u)}_{s_I} = \\operatorname{Tr} \\rho_{r_I,r_J} \\left(\\bigotimes_{i \\in I} M_{(s_{i})}^{(u_{i})} \\otimes \\bigotimes_{j \\in J} \\mathbb{1}\\right) $$\n",
    "\n",
    "So it all boils down to distinguish the states \n"
   ]
  },
  {
   "cell_type": "code",
   "execution_count": null,
   "id": "5797b214-ce21-41b7-8488-48ba3e04fc0e",
   "metadata": {},
   "outputs": [],
   "source": []
  },
  {
   "cell_type": "code",
   "execution_count": 10,
   "id": "83f56641-71ad-4c74-8aa4-a4f383ae7de9",
   "metadata": {},
   "outputs": [],
   "source": [
    "import numpy as np\n",
    "import itertools as it"
   ]
  },
  {
   "cell_type": "code",
   "execution_count": 20,
   "id": "7fe5c1b4-ff2d-4f1e-ac6d-e1b726308bc9",
   "metadata": {},
   "outputs": [],
   "source": [
    "ri = [[0,1], [0,1]]\n",
    "si = [[0,1], [0,1]]\n",
    "p = [0,1]\n",
    "R = list(it.product(r1, r2))\n",
    "S = list(it.product(s1, s2))"
   ]
  },
  {
   "cell_type": "code",
   "execution_count": null,
   "id": "9bf0ea00-266e-45dc-b0e0-3b7a2a4d87db",
   "metadata": {},
   "outputs": [],
   "source": [
    "def reduceQ(Q):\n",
    "    Qit = [np.zeros((4,4)), np.zeros((4,4)), np.zeros((4,4)), np.zeros((4,4))]\n",
    "    for i in p:\n",
    "        for ri in r1\n",
    "        \n",
    "        "
   ]
  },
  {
   "cell_type": "code",
   "execution_count": 4,
   "id": "3bb03b75-5498-43bd-ba05-1253fb76f284",
   "metadata": {},
   "outputs": [
    {
     "name": "stderr",
     "output_type": "stream",
     "text": [
      "<ipython-input-4-4131e07c4c2b>:1: VisibleDeprecationWarning: Creating an ndarray from ragged nested sequences (which is a list-or-tuple of lists-or-tuples-or ndarrays with different lengths or shapes) is deprecated. If you meant to do this, you must specify 'dtype=object' when creating the ndarray\n",
      "  Q = np.array([[1/2, 1/4, 1/7],\n"
     ]
    }
   ],
   "source": [
    "Q = np.array([[1/2, 1/4, 1/7],\n",
    "              [0, 1/4, 2/7, 2/7],\n",
    "              [0, 1/4, 3/7, 3/7],\n",
    "              [1/2, 1/4, 1/7, 1/7]])"
   ]
  },
  {
   "cell_type": "code",
   "execution_count": 18,
   "id": "5f45fe7a-7066-4516-b106-633fdcaa1dbc",
   "metadata": {},
   "outputs": [
    {
     "data": {
      "text/plain": [
       "array([[0., 0.],\n",
       "       [0., 0.]])"
      ]
     },
     "execution_count": 18,
     "metadata": {},
     "output_type": "execute_result"
    }
   ],
   "source": [
    "np.zeros((2,2))"
   ]
  },
  {
   "cell_type": "code",
   "execution_count": 7,
   "id": "167d216f-6dd0-4f9c-8aec-a7a43c26949a",
   "metadata": {},
   "outputs": [
    {
     "data": {
      "text/plain": [
       "0.25"
      ]
     },
     "execution_count": 7,
     "metadata": {},
     "output_type": "execute_result"
    }
   ],
   "source": [
    "Q[0][1]"
   ]
  },
  {
   "cell_type": "code",
   "execution_count": 17,
   "id": "40507a8d-77ba-4b50-be4d-bfede7cc6c51",
   "metadata": {},
   "outputs": [
    {
     "data": {
      "text/plain": [
       "[(0, 0), (0, 1), (1, 0), (1, 1)]"
      ]
     },
     "execution_count": 17,
     "metadata": {},
     "output_type": "execute_result"
    }
   ],
   "source": [
    "R"
   ]
  },
  {
   "cell_type": "code",
   "execution_count": 8,
   "id": "b3b9d649-07aa-44c4-8bd8-5026e65e8ba4",
   "metadata": {},
   "outputs": [
    {
     "data": {
      "text/plain": [
       "'0b10'"
      ]
     },
     "execution_count": 8,
     "metadata": {},
     "output_type": "execute_result"
    }
   ],
   "source": [
    "bin(2)"
   ]
  },
  {
   "cell_type": "code",
   "execution_count": 9,
   "id": "779d60e0-086f-48cc-8035-7f0886b72e76",
   "metadata": {},
   "outputs": [
    {
     "ename": "ValueError",
     "evalue": "invalid literal for int() with base 10: '0b10'",
     "output_type": "error",
     "traceback": [
      "\u001b[0;31m---------------------------------------------------------------------------\u001b[0m",
      "\u001b[0;31mValueError\u001b[0m                                Traceback (most recent call last)",
      "Input \u001b[0;32mIn [9]\u001b[0m, in \u001b[0;36m<cell line: 1>\u001b[0;34m()\u001b[0m\n\u001b[0;32m----> 1\u001b[0m \u001b[38;5;28mint\u001b[39m(\u001b[38;5;124m'\u001b[39m\u001b[38;5;124m0b10\u001b[39m\u001b[38;5;124m'\u001b[39m)\n",
      "\u001b[0;31mValueError\u001b[0m: invalid literal for int() with base 10: '0b10'"
     ]
    }
   ],
   "source": [
    "int('0b10')"
   ]
  },
  {
   "cell_type": "code",
   "execution_count": null,
   "id": "d7eb5c44-0187-42dc-b468-3f13ac01c482",
   "metadata": {},
   "outputs": [],
   "source": [
    "index()"
   ]
  }
 ],
 "metadata": {
  "kernelspec": {
   "display_name": "Python 3",
   "language": "python",
   "name": "python3"
  },
  "language_info": {
   "codemirror_mode": {
    "name": "ipython",
    "version": 3
   },
   "file_extension": ".py",
   "mimetype": "text/x-python",
   "name": "python",
   "nbconvert_exporter": "python",
   "pygments_lexer": "ipython3",
   "version": "3.9.5"
  }
 },
 "nbformat": 4,
 "nbformat_minor": 5
}
